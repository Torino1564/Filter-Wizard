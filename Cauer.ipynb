{
 "cells": [
  {
   "cell_type": "markdown",
   "source": [
    "This python script allows for the creation of a cauer or elliptic filter"
   ],
   "metadata": {
    "collapsed": false
   },
   "id": "86c28200e295afcf"
  },
  {
   "cell_type": "code",
   "outputs": [],
   "source": [
    "pip install scipy numpy sympy matplotlib\n",
    "import matplotlib.pyplot as plt\n",
    "import scipy as sc\n",
    "import numpy as np\n",
    "import sympy as sp"
   ],
   "metadata": {
    "collapsed": false
   },
   "id": "80f2f15bdca210d3"
  },
  {
   "cell_type": "code",
   "outputs": [],
   "source": [
    "# template parameters:\n",
    "\n",
    "Gp = 0.8\n",
    "Ga = 0.1\n",
    "wp = 1\n",
    "wa = 2"
   ],
   "metadata": {
    "collapsed": false
   },
   "id": "c1671fe50d4f5602"
  }
 ],
 "metadata": {
  "kernelspec": {
   "display_name": "Python 3",
   "language": "python",
   "name": "python3"
  },
  "language_info": {
   "codemirror_mode": {
    "name": "ipython",
    "version": 2
   },
   "file_extension": ".py",
   "mimetype": "text/x-python",
   "name": "python",
   "nbconvert_exporter": "python",
   "pygments_lexer": "ipython2",
   "version": "2.7.6"
  }
 },
 "nbformat": 4,
 "nbformat_minor": 5
}
