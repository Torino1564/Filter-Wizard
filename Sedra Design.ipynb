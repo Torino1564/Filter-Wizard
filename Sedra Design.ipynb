{
 "cells": [
  {
   "cell_type": "code",
   "outputs": [
    {
     "name": "stdout",
     "output_type": "stream",
     "text": [
      "Requirement already satisfied: sympy in c:\\dev\\filter-wizard\\.venv\\lib\\site-packages (1.12)\n",
      "Requirement already satisfied: numpy in c:\\dev\\filter-wizard\\.venv\\lib\\site-packages (1.26.4)\n",
      "Requirement already satisfied: matplotlib in c:\\dev\\filter-wizard\\.venv\\lib\\site-packages (3.8.4)\n",
      "Requirement already satisfied: scipy in c:\\dev\\filter-wizard\\.venv\\lib\\site-packages (1.13.0)\n",
      "Requirement already satisfied: mpmath>=0.19 in c:\\dev\\filter-wizard\\.venv\\lib\\site-packages (from sympy) (1.3.0)\n",
      "Requirement already satisfied: contourpy>=1.0.1 in c:\\dev\\filter-wizard\\.venv\\lib\\site-packages (from matplotlib) (1.2.1)\n",
      "Requirement already satisfied: cycler>=0.10 in c:\\dev\\filter-wizard\\.venv\\lib\\site-packages (from matplotlib) (0.12.1)\n",
      "Requirement already satisfied: fonttools>=4.22.0 in c:\\dev\\filter-wizard\\.venv\\lib\\site-packages (from matplotlib) (4.51.0)\n",
      "Requirement already satisfied: kiwisolver>=1.3.1 in c:\\dev\\filter-wizard\\.venv\\lib\\site-packages (from matplotlib) (1.4.5)\n",
      "Requirement already satisfied: packaging>=20.0 in c:\\dev\\filter-wizard\\.venv\\lib\\site-packages (from matplotlib) (24.0)\n",
      "Requirement already satisfied: pillow>=8 in c:\\dev\\filter-wizard\\.venv\\lib\\site-packages (from matplotlib) (10.3.0)\n",
      "Requirement already satisfied: pyparsing>=2.3.1 in c:\\dev\\filter-wizard\\.venv\\lib\\site-packages (from matplotlib) (3.1.2)\n",
      "Requirement already satisfied: python-dateutil>=2.7 in c:\\dev\\filter-wizard\\.venv\\lib\\site-packages (from matplotlib) (2.9.0.post0)\n",
      "Requirement already satisfied: six>=1.5 in c:\\dev\\filter-wizard\\.venv\\lib\\site-packages (from python-dateutil>=2.7->matplotlib) (1.16.0)\n"
     ]
    },
    {
     "name": "stderr",
     "output_type": "stream",
     "text": [
      "\n",
      "[notice] A new release of pip is available: 23.2.1 -> 24.0\n",
      "[notice] To update, run: python.exe -m pip install --upgrade pip\n"
     ]
    }
   ],
   "source": [
    "!pip install sympy numpy matplotlib scipy"
   ],
   "metadata": {
    "collapsed": false,
    "ExecuteTime": {
     "end_time": "2024-05-20T18:48:35.377649Z",
     "start_time": "2024-05-20T18:48:32.872104Z"
    }
   },
   "id": "aae1daec0ef464fb",
   "execution_count": 133
  },
  {
   "cell_type": "code",
   "outputs": [],
   "source": [
    "import numpy as np\n",
    "import sympy as sp\n",
    "import matplotlib as plt\n",
    "import scipy as sc"
   ],
   "metadata": {
    "collapsed": false,
    "ExecuteTime": {
     "end_time": "2024-05-20T18:48:35.382202Z",
     "start_time": "2024-05-20T18:48:35.378647Z"
    }
   },
   "id": "4a222bf0feeb5a71",
   "execution_count": 134
  },
  {
   "cell_type": "markdown",
   "source": [
    "This script aids the creation of a Sedra high pass notch filter\n",
    "Setup:"
   ],
   "metadata": {
    "collapsed": false
   },
   "id": "3316e74d212c0dd5"
  },
  {
   "cell_type": "code",
   "outputs": [],
   "source": [
    "# Desired parameters:\n",
    "Q = 5\n",
    "fp = 1500\n",
    "fz = 1000\n",
    "\n",
    "# Op-Amp parameters\n",
    "GBWP = 1000000\n",
    "\n",
    "# since this is a high pass notch filter, n1 has to be 0 so that transmission zeros are possible\n",
    "n1 = 0\n",
    "\n",
    "# since the gain of the system when the frequency goes to infinity has to be 1 for it to be normalized, n2 has to be 1 over the overshoot Q\n",
    "n2 = 1/Q"
   ],
   "metadata": {
    "collapsed": false,
    "ExecuteTime": {
     "end_time": "2024-05-20T18:48:35.399441Z",
     "start_time": "2024-05-20T18:48:35.382726Z"
    }
   },
   "id": "30676bd9bf425d40",
   "execution_count": 135
  },
  {
   "cell_type": "markdown",
   "source": [
    "1) The value of Qo has to be chosen according to the design parameters since it depends on the sensibility of the components."
   ],
   "metadata": {
    "collapsed": false
   },
   "id": "4089754336eab29b"
  },
  {
   "cell_type": "code",
   "outputs": [],
   "source": [
    "Qo = 4"
   ],
   "metadata": {
    "collapsed": false,
    "ExecuteTime": {
     "end_time": "2024-05-20T18:48:35.407443Z",
     "start_time": "2024-05-20T18:48:35.401437Z"
    }
   },
   "id": "65ee641a302b7271",
   "execution_count": 136
  },
  {
   "cell_type": "markdown",
   "source": [
    "2) The parameters K, k and m are then calculated from the previous parameters"
   ],
   "metadata": {
    "collapsed": false
   },
   "id": "4938c0a955ec7bf4"
  },
  {
   "cell_type": "code",
   "outputs": [
    {
     "name": "stdout",
     "output_type": "stream",
     "text": [
      "K: 1.00625\n",
      "k: 0.4444444444444446\n",
      "m: 0.20151828847481312\n"
     ]
    }
   ],
   "source": [
    "K = 1 + ((1/(2*(Qo**2)))*(1 - (Qo/Q)))\n",
    "k = (n2 * ((fz/fp)**2)/(1 - (Qo/Q)))\n",
    "m = k * ((K - 1)/K) * ( 1 + 2 * Qo**2 * (fp/fz)**2)\n",
    "\n",
    "print(\"K: {}\" .format(K))\n",
    "print(\"k: {}\".format(k))\n",
    "print(\"m: {}\".format(m))\n"
   ],
   "metadata": {
    "collapsed": false,
    "ExecuteTime": {
     "end_time": "2024-05-20T18:48:35.417453Z",
     "start_time": "2024-05-20T18:48:35.408444Z"
    }
   },
   "id": "8ea9dccc0b2cfea7",
   "execution_count": 137
  },
  {
   "cell_type": "markdown",
   "source": [
    "Then, the corrected wp and Qp values are calculated"
   ],
   "metadata": {
    "collapsed": false
   },
   "id": "f3b41e56ff23a05e"
  },
  {
   "cell_type": "code",
   "outputs": [
    {
     "name": "stdout",
     "output_type": "stream",
     "text": [
      "Wp: 9481.326628533996\n",
      "Qp: 4.9704500000000005\n"
     ]
    }
   ],
   "source": [
    "wp = 2*np.pi*fp*( 1 + Qo*(fp/GBWP))\n",
    "print(\"Wp: {}\".format(wp))\n",
    "\n",
    "Qp = Q*(1 - 2*Qo*Q*(fp/GBWP)*((1/(2*Q)) - (fp/GBWP)))\n",
    "print(\"Qp: {}\".format(Qp))"
   ],
   "metadata": {
    "collapsed": false,
    "ExecuteTime": {
     "end_time": "2024-05-20T18:48:35.425693Z",
     "start_time": "2024-05-20T18:48:35.418453Z"
    }
   },
   "id": "920aad5fa00db8b3",
   "execution_count": 138
  },
  {
   "cell_type": "markdown",
   "source": [
    "Afterwards, the values of the capacitors are calculated. To do this, firstly the value of C21 is fixed to an arbitrary number. Then, the value of C22 is calculated by taking the previous nominal value of the result got from the m/m-1 ratio. Finally, C3 is equal to the sum of the two"
   ],
   "metadata": {
    "collapsed": false
   },
   "id": "764c793842d50f11"
  },
  {
   "cell_type": "code",
   "outputs": [
    {
     "name": "stdout",
     "output_type": "stream",
     "text": [
      "C21: 1e-08\n",
      "Max C22: 2.5237683664650414e-09\n"
     ]
    }
   ],
   "source": [
    "# arbitrary C21 value\n",
    "C21 = 10e-9\n",
    "max_C22 = C21 * (m/(1 - m))\n",
    "\n",
    "print(\"C21: {}\".format(C21))\n",
    "print(\"Max C22: {}\".format(max_C22))"
   ],
   "metadata": {
    "collapsed": false,
    "ExecuteTime": {
     "end_time": "2024-05-20T18:48:35.434602Z",
     "start_time": "2024-05-20T18:48:35.426690Z"
    }
   },
   "id": "c1276746c6b7378a",
   "execution_count": 139
  },
  {
   "cell_type": "markdown",
   "source": [
    "Now the user has to pick a value for C22"
   ],
   "metadata": {
    "collapsed": false
   },
   "id": "41195d3e99b9694"
  },
  {
   "cell_type": "code",
   "outputs": [
    {
     "name": "stdout",
     "output_type": "stream",
     "text": [
      "Max C3: 1.22e-08\n"
     ]
    }
   ],
   "source": [
    "C22 = 2.2e-9\n",
    "max_C3 = C21 + C22\n",
    "print(\"Max C3: {}\".format(max_C3))"
   ],
   "metadata": {
    "collapsed": false,
    "ExecuteTime": {
     "end_time": "2024-05-20T18:48:35.442462Z",
     "start_time": "2024-05-20T18:48:35.435597Z"
    }
   },
   "id": "a1bdbb8920dcd856",
   "execution_count": 140
  },
  {
   "cell_type": "markdown",
   "source": [
    "Then, C3 has to be picked to the lower nominal value"
   ],
   "metadata": {
    "collapsed": false
   },
   "id": "c22931c4fff75bd2"
  },
  {
   "cell_type": "code",
   "outputs": [
    {
     "name": "stdout",
     "output_type": "stream",
     "text": [
      "C3: 1.22e-08\n"
     ]
    }
   ],
   "source": [
    "C3 = 1.22e-8\n",
    "print(\"C3: {}\".format(C3))"
   ],
   "metadata": {
    "collapsed": false,
    "ExecuteTime": {
     "end_time": "2024-05-20T18:48:35.450446Z",
     "start_time": "2024-05-20T18:48:35.443459Z"
    }
   },
   "id": "83018588746b6666",
   "execution_count": 141
  },
  {
   "cell_type": "markdown",
   "source": [
    "Then, the admittances R1 and R4 are calculated:"
   ],
   "metadata": {
    "collapsed": false
   },
   "id": "af37c66fe9f10260"
  },
  {
   "cell_type": "code",
   "outputs": [
    {
     "name": "stdout",
     "output_type": "stream",
     "text": [
      "G1: 0.000925377478944918\n",
      "G4: 1.4459023108514344e-05\n"
     ]
    }
   ],
   "source": [
    "G1 =  ( 2 * Qo * wp * C3)\n",
    "G4 =  G1 / (4*(Qo ** 2))\n",
    "\n",
    "print(\"G1: {}\".format(G1))\n",
    "print(\"G4: {}\".format(G4))"
   ],
   "metadata": {
    "collapsed": false,
    "ExecuteTime": {
     "end_time": "2024-05-20T18:48:35.458453Z",
     "start_time": "2024-05-20T18:48:35.452441Z"
    }
   },
   "id": "ca00e1c796e85857",
   "execution_count": 142
  },
  {
   "cell_type": "markdown",
   "source": [
    "Then, the user has to pick a value for Rb:"
   ],
   "metadata": {
    "collapsed": false
   },
   "id": "4f58d62b756526c1"
  },
  {
   "cell_type": "code",
   "outputs": [
    {
     "name": "stdout",
     "output_type": "stream",
     "text": [
      "Ra: 77031.85944664842\n"
     ]
    }
   ],
   "source": [
    "Rb = 470\n",
    "\n",
    "Gb = 1/Rb\n",
    "\n",
    "Ga = Gb * (( G4 / G1 ) * ((C21 + C22 + C3 )/C3) - (wp * (C21 + C22) / (Qp * G1)))\n",
    "\n",
    "print(\"Ra: {}\".format(1/Ga))"
   ],
   "metadata": {
    "collapsed": false,
    "ExecuteTime": {
     "end_time": "2024-05-20T18:48:35.467458Z",
     "start_time": "2024-05-20T18:48:35.459459Z"
    }
   },
   "id": "e6527e55ae14632e",
   "execution_count": 143
  },
  {
   "cell_type": "markdown",
   "source": [
    "Then the system of equations is solved for the values of Ga1, Ga2, G41 and G42"
   ],
   "metadata": {
    "collapsed": false
   },
   "id": "66415260e32259a9"
  },
  {
   "cell_type": "code",
   "outputs": [
    {
     "name": "stdout",
     "output_type": "stream",
     "text": [
      "Ra1: 128936.248230117\n",
      "Rb: 470.0\n",
      "Ra2: 191355.667295787\n",
      "R41: 75220.8898482471\n",
      "R42: 858484.227502002\n",
      "C21: 1e-08\n",
      "C22: 2.2e-09\n",
      "C3: 1.22e-08\n"
     ]
    }
   ],
   "source": [
    "Ga1s, Ga2s, G41s, G42s, Gas, G4s, C3s, C22s, C21s, G1s = sp.symbols('Ga1, Ga2, G41, G42, Gas, G4, C3s, C22s, C21s, G1s')\n",
    "Qps, wps, Gbs = sp.symbols('Qps, wps, Gbs')\n",
    "\n",
    "# e1)\n",
    "\n",
    "e1 = sp.Eq(Ga1s + Ga2s, Gas)\n",
    "e1 = e1.subs(Gas, Ga)\n",
    "\n",
    "# e2)\n",
    "\n",
    "e2 = sp.Eq(G41s + G42s, G4s)\n",
    "e2 = e2.subs(G4s, G4)\n",
    "\n",
    "# e3)\n",
    "lhs_1 = (G1s * G4s) / (C3s * (C21s + C22s)) * ((G42s/G4s)*((Gas + Gbs)/Gbs) - (Ga2s/Gbs))\n",
    "lhs_2 = (((Gas + Gbs)/ Gbs)*(C22s/(C21s + C22s))) - (Ga2s/Gbs)\n",
    "lhs = lhs_1/lhs_2\n",
    "rhs = (2*np.pi*fz)**2\n",
    "\n",
    "e3 = sp.Eq(rhs, lhs)\n",
    "\n",
    "e3 = e3.subs(C3s, C3)\n",
    "e3 = e3.subs(C21s, C21)\n",
    "e3 = e3.subs(C22s, C22)\n",
    "e3 = e3.subs(G4s, G4)\n",
    "e3 = e3.subs(Gas, Ga)\n",
    "e3 = e3.subs(Gbs, Gb)\n",
    "e3 = e3.subs(G1s, G1)\n",
    "\n",
    "# e3)\n",
    "lhs = ((Gas + Gbs)/Gbs)*G42s*((1/(C21s + C22s)) + (1/C3s))\n",
    "rhs = (Ga2s/Gbs)*((G1s/(C21s + C22s)) + G4s*((1/(C21s + C22s)) + 1/C3s))\n",
    "\n",
    "e4 = sp.Eq(rhs, lhs)\n",
    "e4 = e4.subs(C3s, C3)\n",
    "e4 = e4.subs(C21s, C21)\n",
    "e4 = e4.subs(C22s, C22)\n",
    "e4 = e4.subs(G4s, G4)\n",
    "e4 = e4.subs(Gas, Ga)\n",
    "e4 = e4.subs(Gbs, Gb)\n",
    "e4 = e4.subs(G1s, G1)\n",
    "\n",
    "# print equations\n",
    "\n",
    "#print(\"E1\")\n",
    "#sp.pprint(e1)\n",
    "#print(\"E2\")\n",
    "\n",
    "#sp.pprint(e2)\n",
    "#print(\"E3\")\n",
    "\n",
    "#sp.pprint(e3)\n",
    "#print(\"E4\")\n",
    "\n",
    "#sp.pprint(e4)\n",
    "\n",
    "solutions = sp.solve((e1, e2, e3, e4), (Ga1s, Ga2s, G41s, G42s))\n",
    "\n",
    "\n",
    "Ra1 = 1/solutions[Ga1s]\n",
    "Ra2 = 1/solutions[Ga2s]\n",
    "R41 = 1/solutions[G41s]\n",
    "R42 = 1/solutions[G42s]\n",
    "Rb = 1/Gb\n",
    "\n",
    "print(\"Ra1: {}\".format(Ra1))\n",
    "print(\"Rb: {}\".format(Rb))\n",
    "print(\"Ra2: {}\".format(Ra2))\n",
    "print(\"R41: {}\".format(R41))\n",
    "print(\"R42: {}\".format(R42))\n",
    "print(\"C21: {}\".format(C21))\n",
    "print(\"C22: {}\".format(C22))\n",
    "print(\"C3: {}\".format(C3))\n"
   ],
   "metadata": {
    "collapsed": false,
    "ExecuteTime": {
     "end_time": "2024-05-20T18:48:35.567487Z",
     "start_time": "2024-05-20T18:48:35.468459Z"
    }
   },
   "id": "95a25340d18ff127",
   "execution_count": 144
  }
 ],
 "metadata": {
  "kernelspec": {
   "display_name": "Python 3",
   "language": "python",
   "name": "python3"
  },
  "language_info": {
   "codemirror_mode": {
    "name": "ipython",
    "version": 2
   },
   "file_extension": ".py",
   "mimetype": "text/x-python",
   "name": "python",
   "nbconvert_exporter": "python",
   "pygments_lexer": "ipython2",
   "version": "2.7.6"
  }
 },
 "nbformat": 4,
 "nbformat_minor": 5
}
