{
 "cells": [
  {
   "cell_type": "code",
   "execution_count": 1,
   "id": "initial_id",
   "metadata": {
    "collapsed": true,
    "ExecuteTime": {
     "end_time": "2024-05-17T01:40:45.856254Z",
     "start_time": "2024-05-17T01:40:41.969054Z"
    }
   },
   "outputs": [],
   "source": [
    "from template import *"
   ]
  },
  {
   "cell_type": "markdown",
   "source": [
    "Define template parameters"
   ],
   "metadata": {
    "collapsed": false
   },
   "id": "7aa436d2562f3547"
  },
  {
   "cell_type": "code",
   "outputs": [],
   "source": [
    "gp = 0.8\n",
    "ga = 0.01\n",
    "wp = 1\n",
    "wa = 2\n",
    "template_type = TemplateType.LP\n",
    "approximation_function = ApproximationFunction.Butter\n",
    "\n",
    "template = Template(ga, gp, [wp, wa], template_type)\n",
    "template.set_approximation_function(approximation_function)\n"
   ],
   "metadata": {
    "collapsed": false,
    "ExecuteTime": {
     "end_time": "2024-05-17T01:42:34.440443Z",
     "start_time": "2024-05-17T01:42:34.433853Z"
    }
   },
   "id": "28ca215aa646abf1",
   "execution_count": 4
  },
  {
   "cell_type": "code",
   "outputs": [],
   "source": [],
   "metadata": {
    "collapsed": false
   },
   "id": "b30869994b0c0d32"
  }
 ],
 "metadata": {
  "kernelspec": {
   "display_name": "Python 3",
   "language": "python",
   "name": "python3"
  },
  "language_info": {
   "codemirror_mode": {
    "name": "ipython",
    "version": 2
   },
   "file_extension": ".py",
   "mimetype": "text/x-python",
   "name": "python",
   "nbconvert_exporter": "python",
   "pygments_lexer": "ipython2",
   "version": "2.7.6"
  }
 },
 "nbformat": 4,
 "nbformat_minor": 5
}
