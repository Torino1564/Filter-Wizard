{
 "cells": [
  {
   "cell_type": "code",
   "execution_count": 1,
   "id": "initial_id",
   "metadata": {
    "collapsed": true,
    "ExecuteTime": {
     "end_time": "2024-05-17T17:48:51.632127Z",
     "start_time": "2024-05-17T17:48:50.171092Z"
    }
   },
   "outputs": [],
   "source": [
    "from template import *\n",
    "import utils as utl"
   ]
  },
  {
   "cell_type": "markdown",
   "source": [
    "Define template parameters"
   ],
   "metadata": {
    "collapsed": false
   },
   "id": "7aa436d2562f3547"
  },
  {
   "cell_type": "code",
   "outputs": [],
   "source": [
    "gp = 0.891\n",
    "ga = 0.01\n",
    "wp = 1\n",
    "wa = 1.8\n",
    "template_type = TemplateType.LP\n",
    "approximation_function = ApproximationFunction.Cauer\n",
    "\n",
    "template = Template(ga, gp, [wp, wa], template_type)\n",
    "template.set_approximation_function(approximation_function)"
   ],
   "metadata": {
    "collapsed": false,
    "ExecuteTime": {
     "end_time": "2024-05-17T17:48:56.990146Z",
     "start_time": "2024-05-17T17:48:56.986508Z"
    }
   },
   "id": "28ca215aa646abf1",
   "execution_count": 2
  },
  {
   "cell_type": "markdown",
   "source": [
    "Once a template is created, the xi and the order are calculated for the selected approximation function"
   ],
   "metadata": {
    "collapsed": false
   },
   "id": "725660ccbe76aebd"
  },
  {
   "cell_type": "markdown",
   "source": [],
   "metadata": {
    "collapsed": false
   },
   "id": "29b413b83dbceaa4"
  },
  {
   "cell_type": "code",
   "outputs": [
    {
     "ename": "TypeError",
     "evalue": "ufunc 'ellipkinc' not supported for the input types, and the inputs could not be safely coerced to any supported types according to the casting rule ''safe''",
     "output_type": "error",
     "traceback": [
      "\u001B[1;31m---------------------------------------------------------------------------\u001B[0m",
      "\u001B[1;31mTypeError\u001B[0m                                 Traceback (most recent call last)",
      "Cell \u001B[1;32mIn[3], line 2\u001B[0m\n\u001B[0;32m      1\u001B[0m template\u001B[38;5;241m.\u001B[39mfind_xi()\n\u001B[1;32m----> 2\u001B[0m \u001B[43mtemplate\u001B[49m\u001B[38;5;241;43m.\u001B[39;49m\u001B[43mfind_n\u001B[49m\u001B[43m(\u001B[49m\u001B[43m)\u001B[49m\n\u001B[0;32m      4\u001B[0m ipd\u001B[38;5;241m.\u001B[39mdisplay(template\u001B[38;5;241m.\u001B[39mxi_val, \u001B[38;5;124m\"\u001B[39m\u001B[38;5;124mXi\u001B[39m\u001B[38;5;124m\"\u001B[39m)\n\u001B[0;32m      5\u001B[0m ipd\u001B[38;5;241m.\u001B[39mdisplay(template\u001B[38;5;241m.\u001B[39morder, \u001B[38;5;124m\"\u001B[39m\u001B[38;5;124mOrder\u001B[39m\u001B[38;5;124m\"\u001B[39m)\n",
      "File \u001B[1;32mC:\\dev\\Filter-Wizard\\template.py:57\u001B[0m, in \u001B[0;36mTemplate.find_n\u001B[1;34m(self)\u001B[0m\n\u001B[0;32m     55\u001B[0m \u001B[38;5;28;01mdef\u001B[39;00m \u001B[38;5;21mfind_n\u001B[39m(\u001B[38;5;28mself\u001B[39m):\n\u001B[0;32m     56\u001B[0m     manager \u001B[38;5;241m=\u001B[39m managers[\u001B[38;5;28mself\u001B[39m\u001B[38;5;241m.\u001B[39mapproximation_function\u001B[38;5;241m.\u001B[39mvalue]\n\u001B[1;32m---> 57\u001B[0m     \u001B[38;5;28mself\u001B[39m\u001B[38;5;241m.\u001B[39morder \u001B[38;5;241m=\u001B[39m \u001B[43mmanager\u001B[49m\u001B[38;5;241;43m.\u001B[39;49m\u001B[43mfind_n\u001B[49m\u001B[43m(\u001B[49m\u001B[38;5;28;43mself\u001B[39;49m\u001B[43m)\u001B[49m\n\u001B[0;32m     58\u001B[0m     \u001B[38;5;28;01mreturn\u001B[39;00m \u001B[38;5;28mself\u001B[39m\u001B[38;5;241m.\u001B[39morder\n",
      "File \u001B[1;32mC:\\dev\\Filter-Wizard\\app_func\\cauer.py:43\u001B[0m, in \u001B[0;36mCauerManager.find_n\u001B[1;34m(self, template)\u001B[0m\n\u001B[0;32m     41\u001B[0m \u001B[38;5;28;01mwhile\u001B[39;00m value \u001B[38;5;241m<\u001B[39m lower_limit:\n\u001B[0;32m     42\u001B[0m     order \u001B[38;5;241m+\u001B[39m\u001B[38;5;241m=\u001B[39m \u001B[38;5;241m1\u001B[39m\n\u001B[1;32m---> 43\u001B[0m     value \u001B[38;5;241m=\u001B[39m elliptic_sin(\u001B[43melliptic_arcsin\u001B[49m\u001B[43m(\u001B[49m\u001B[43mtemplate\u001B[49m\u001B[38;5;241;43m.\u001B[39;49m\u001B[43mnormalized_template\u001B[49m\u001B[38;5;241;43m.\u001B[39;49m\u001B[43mw_array\u001B[49m\u001B[43m[\u001B[49m\u001B[38;5;241;43m1\u001B[39;49m\u001B[43m]\u001B[49m\u001B[43m,\u001B[49m\u001B[43m \u001B[49m\u001B[43mK\u001B[49m\u001B[43m)\u001B[49m, K1)\n\u001B[0;32m     45\u001B[0m temp \u001B[38;5;241m=\u001B[39m (\u001B[38;5;241m1\u001B[39m \u001B[38;5;241m-\u001B[39m template\u001B[38;5;241m.\u001B[39mnormalized_template\u001B[38;5;241m.\u001B[39mGa \u001B[38;5;241m*\u001B[39m\u001B[38;5;241m*\u001B[39m \u001B[38;5;241m2\u001B[39m) \u001B[38;5;241m/\u001B[39m ((template\u001B[38;5;241m.\u001B[39mnormalized_template\u001B[38;5;241m.\u001B[39mGa \u001B[38;5;241m*\u001B[39m\u001B[38;5;241m*\u001B[39m \u001B[38;5;241m2\u001B[39m) \u001B[38;5;241m*\u001B[39m template\u001B[38;5;241m.\u001B[39mxi_val \u001B[38;5;241m*\u001B[39m\u001B[38;5;241m*\u001B[39m \u001B[38;5;241m2\u001B[39m)\n\u001B[0;32m     46\u001B[0m n_precise \u001B[38;5;241m=\u001B[39m log_base(temp, template\u001B[38;5;241m.\u001B[39mnormalized_template\u001B[38;5;241m.\u001B[39mw_array[\u001B[38;5;241m1\u001B[39m]) \u001B[38;5;241m/\u001B[39m \u001B[38;5;241m2\u001B[39m\n",
      "File \u001B[1;32mC:\\dev\\Filter-Wizard\\app_func\\cauer.py:17\u001B[0m, in \u001B[0;36melliptic_arcsin\u001B[1;34m(value, K)\u001B[0m\n\u001B[0;32m     14\u001B[0m     \u001B[38;5;28;01mreturn\u001B[39;00m sn \u001B[38;5;241m-\u001B[39m value\n\u001B[0;32m     16\u001B[0m \u001B[38;5;66;03m# Use root_scalar to solve for u\u001B[39;00m\n\u001B[1;32m---> 17\u001B[0m sol \u001B[38;5;241m=\u001B[39m root_scalar(equation, bracket\u001B[38;5;241m=\u001B[39m[\u001B[38;5;241m0\u001B[39m, \u001B[38;5;241m2\u001B[39m \u001B[38;5;241m*\u001B[39m \u001B[43mellipkinc\u001B[49m\u001B[43m(\u001B[49m\u001B[43mpi\u001B[49m\u001B[43m \u001B[49m\u001B[38;5;241;43m/\u001B[39;49m\u001B[43m \u001B[49m\u001B[38;5;241;43m2\u001B[39;49m\u001B[43m,\u001B[49m\u001B[43m \u001B[49m\u001B[43mK\u001B[49m\u001B[43m)\u001B[49m], method\u001B[38;5;241m=\u001B[39m\u001B[38;5;124m'\u001B[39m\u001B[38;5;124mbrentq\u001B[39m\u001B[38;5;124m'\u001B[39m)\n\u001B[0;32m     18\u001B[0m \u001B[38;5;28;01mreturn\u001B[39;00m sol\u001B[38;5;241m.\u001B[39mroot\n",
      "\u001B[1;31mTypeError\u001B[0m: ufunc 'ellipkinc' not supported for the input types, and the inputs could not be safely coerced to any supported types according to the casting rule ''safe''"
     ]
    }
   ],
   "source": [
    "template.find_xi()\n",
    "template.find_n()\n",
    "\n",
    "ipd.display(template.xi_val, \"Xi\")\n",
    "ipd.display(template.order, \"Order\")"
   ],
   "metadata": {
    "collapsed": false,
    "ExecuteTime": {
     "end_time": "2024-05-17T17:50:50.038590Z",
     "start_time": "2024-05-17T17:49:11.947873Z"
    }
   },
   "id": "21008cd8d3ac1439",
   "execution_count": 3
  },
  {
   "cell_type": "markdown",
   "source": [
    "Then, the approximation function is calculated and the F(w) is calculated."
   ],
   "metadata": {
    "collapsed": false
   },
   "id": "3cda38779d5f895e"
  },
  {
   "cell_type": "code",
   "outputs": [
    {
     "data": {
      "text/plain": "    6       4       2    \n32⋅w  - 48⋅w  + 18⋅w  - 1",
      "image/png": "[encoded data removed]",
      "text/latex": "$\\displaystyle 32 w^{6} - 48 w^{4} + 18 w^{2} - 1$"
     },
     "metadata": {},
     "output_type": "display_data"
    },
    {
     "data": {
      "text/plain": "'Approximation Function'"
     },
     "metadata": {},
     "output_type": "display_data"
    },
    {
     "data": {
      "text/plain": "                                        1                                     \n──────────────────────────────────────────────────────────────────────────────\n                                                                            2 \n                 ⎛                   6    4          2                     ⎞  \n598.198188393474⋅⎝0.666666666666667⋅w  - w  + 0.375⋅w  - 0.0208333333333333⎠  \n\n   \n───\n   \n   \n+ 1",
      "image/png": "[encoded data removed]",
      "text/latex": "$\\displaystyle \\frac{1}{598.198188393474 \\left(0.666666666666667 w^{6} - w^{4} + 0.375 w^{2} - 0.0208333333333333\\right)^{2} + 1}$"
     },
     "metadata": {},
     "output_type": "display_data"
    },
    {
     "data": {
      "text/plain": "'F(w) Function'"
     },
     "metadata": {},
     "output_type": "display_data"
    }
   ],
   "source": [
    "template.get_correct_approx_function()\n",
    "template.generate_fw_function()\n",
    "\n",
    "ipd.display(template.approximation_function_expr, \"Approximation Function\")\n",
    "ipd.display(template.fw_function, \"F(w) Function\")"
   ],
   "metadata": {
    "collapsed": false,
    "ExecuteTime": {
     "end_time": "2024-05-17T16:30:29.673375Z",
     "start_time": "2024-05-17T16:30:29.556087Z"
    }
   },
   "id": "831006f0250d640c",
   "execution_count": 28
  },
  {
   "cell_type": "markdown",
   "source": [
    "Then, the G(s) = F(s/j) is calculated and its pz map is drawn"
   ],
   "metadata": {
    "collapsed": false
   },
   "id": "6da0f11f434b12ba"
  },
  {
   "cell_type": "code",
   "outputs": [
    {
     "data": {
      "text/plain": "                                         1                                    \n──────────────────────────────────────────────────────────────────────────────\n                                                                              \n                 ⎛                     6    4          2                     ⎞\n598.198188393474⋅⎝- 0.666666666666667⋅s  - s  - 0.375⋅s  - 0.0208333333333333⎠\n\n     \n─────\n2    \n     \n  + 1",
      "image/png": "[encoded data removed]",
      "text/latex": "$\\displaystyle \\frac{1}{598.198188393474 \\left(- 0.666666666666667 s^{6} - s^{4} - 0.375 s^{2} - 0.0208333333333333\\right)^{2} + 1}$"
     },
     "metadata": {},
     "output_type": "display_data"
    },
    {
     "data": {
      "text/plain": "'G(s) Function'"
     },
     "metadata": {},
     "output_type": "display_data"
    }
   ],
   "source": [
    "template.generate_gs_function()\n",
    "\n",
    "ipd.display(template.gs_function, \"G(s) Function\")"
   ],
   "metadata": {
    "collapsed": false,
    "ExecuteTime": {
     "end_time": "2024-05-17T16:30:29.755687Z",
     "start_time": "2024-05-17T16:30:29.674379Z"
    }
   },
   "id": "3166b725680c3602",
   "execution_count": 29
  },
  {
   "cell_type": "markdown",
   "source": [
    "Finally, the final transfer function is generated by culling the poles with positive real part"
   ],
   "metadata": {
    "collapsed": false
   },
   "id": "b44023dd60fb8d74"
  },
  {
   "cell_type": "code",
   "outputs": [
    {
     "data": {
      "text/plain": "<Figure size 640x480 with 1 Axes>",
      "image/png": "[encoded data removed]"
     },
     "metadata": {},
     "output_type": "display_data"
    },
    {
     "data": {
      "text/plain": "'Poles:'"
     },
     "metadata": {},
     "output_type": "display_data"
    },
    {
     "data": {
      "text/plain": "'1) Wo:0.99530495993214, Phase:1.6332569524304448, Q:8.010250517966343'"
     },
     "metadata": {},
     "output_type": "display_data"
    },
    {
     "data": {
      "text/plain": "'2) Wo:0.99530495993214, Phase:-1.6332569524304448, Q:8.01025051796633'"
     },
     "metadata": {},
     "output_type": "display_data"
    },
    {
     "data": {
      "text/plain": "'3) Wo:0.746739085205329, Phase:1.8001008186098209, Q:2.1997333654546045'"
     },
     "metadata": {},
     "output_type": "display_data"
    },
    {
     "data": {
      "text/plain": "'4) Wo:0.746739085205329, Phase:-1.8001008186098209, Q:2.199733365454606'"
     },
     "metadata": {},
     "output_type": "display_data"
    },
    {
     "data": {
      "text/plain": "'5) Wo:0.35299654315739715, Phase:2.287411722073971, Q:0.7612246361908471'"
     },
     "metadata": {},
     "output_type": "display_data"
    },
    {
     "data": {
      "text/plain": "'6) Wo:0.35299654315739715, Phase:-2.287411722073971, Q:0.7612246361908472'"
     },
     "metadata": {},
     "output_type": "display_data"
    },
    {
     "data": {
      "text/plain": "'Zeros:'"
     },
     "metadata": {},
     "output_type": "display_data"
    }
   ],
   "source": [
    "template.generate_final_tf()\n",
    "utl.print_pzm(template.final_function)"
   ],
   "metadata": {
    "collapsed": false,
    "ExecuteTime": {
     "end_time": "2024-05-17T16:30:29.941755Z",
     "start_time": "2024-05-17T16:30:29.757692Z"
    }
   },
   "id": "592f272f1d2c28b3",
   "execution_count": 30
  }
 ],
 "metadata": {
  "kernelspec": {
   "display_name": "Python 3",
   "language": "python",
   "name": "python3"
  },
  "language_info": {
   "codemirror_mode": {
    "name": "ipython",
    "version": 2
   },
   "file_extension": ".py",
   "mimetype": "text/x-python",
   "name": "python",
   "nbconvert_exporter": "python",
   "pygments_lexer": "ipython2",
   "version": "2.7.6"
  }
 },
 "nbformat": 4,
 "nbformat_minor": 5
}
