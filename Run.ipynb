{
 "cells": [
  {
   "cell_type": "code",
   "execution_count": 7,
   "id": "initial_id",
   "metadata": {
    "collapsed": true,
    "ExecuteTime": {
     "end_time": "2024-05-20T13:32:15.210485Z",
     "start_time": "2024-05-20T13:32:15.205833Z"
    }
   },
   "outputs": [],
   "source": [
    "from template import *\n",
    "import utils as utl"
   ]
  },
  {
   "cell_type": "markdown",
   "source": [
    "Define template parameters"
   ],
   "metadata": {
    "collapsed": false
   },
   "id": "7aa436d2562f3547"
  },
  {
   "cell_type": "code",
   "outputs": [],
   "source": [
    "gp = 0.891\n",
    "ga = 0.01\n",
    "wp = 1\n",
    "wa = 1.8\n",
    "template_type = TemplateType.LP\n",
    "approximation_function = ApproximationFunction.OL\n",
    "\n",
    "template = Template(ga, gp, [wp, wa], template_type)\n",
    "template.set_approximation_function(approximation_function)"
   ],
   "metadata": {
    "collapsed": false,
    "ExecuteTime": {
     "end_time": "2024-05-20T13:32:15.218714Z",
     "start_time": "2024-05-20T13:32:15.211489Z"
    }
   },
   "id": "28ca215aa646abf1",
   "execution_count": 8
  },
  {
   "cell_type": "markdown",
   "source": [
    "Once a template is created, the xi and the order are calculated for the selected approximation function"
   ],
   "metadata": {
    "collapsed": false
   },
   "id": "725660ccbe76aebd"
  },
  {
   "cell_type": "markdown",
   "source": [],
   "metadata": {
    "collapsed": false
   },
   "id": "29b413b83dbceaa4"
  },
  {
   "cell_type": "code",
   "outputs": [
    {
     "data": {
      "text/plain": "0.5095435510131712",
      "image/png": "[encoded data removed]",
      "text/latex": "$\\displaystyle 0.509543551013171$"
     },
     "metadata": {},
     "output_type": "display_data"
    },
    {
     "data": {
      "text/plain": "'Xi'"
     },
     "metadata": {},
     "output_type": "display_data"
    },
    {
     "data": {
      "text/plain": "3",
      "image/png": "[encoded data removed]",
      "text/latex": "$\\displaystyle 3$"
     },
     "metadata": {},
     "output_type": "display_data"
    },
    {
     "data": {
      "text/plain": "'Order'"
     },
     "metadata": {},
     "output_type": "display_data"
    }
   ],
   "source": [
    "template.find_xi()\n",
    "template.find_n()\n",
    "\n",
    "ipd.display(template.xi_val, \"Xi\")\n",
    "ipd.display(template.order, \"Order\")"
   ],
   "metadata": {
    "collapsed": false,
    "ExecuteTime": {
     "end_time": "2024-05-20T13:32:15.272009Z",
     "start_time": "2024-05-20T13:32:15.219719Z"
    }
   },
   "id": "21008cd8d3ac1439",
   "execution_count": 9
  },
  {
   "cell_type": "markdown",
   "source": [
    "Then, the approximation function is calculated and the F(w) is calculated."
   ],
   "metadata": {
    "collapsed": false
   },
   "id": "3cda38779d5f895e"
  },
  {
   "cell_type": "code",
   "outputs": [
    {
     "data": {
      "text/plain": "   ____________________________________\n  ╱     10       8       6      4    2 \n╲╱  20⋅w   - 40⋅w  + 28⋅w  - 8⋅w  + w  ",
      "image/png": "[encoded data removed]",
      "text/latex": "$\\displaystyle \\sqrt{20 w^{10} - 40 w^{8} + 28 w^{6} - 8 w^{4} + w^{2}}$"
     },
     "metadata": {},
     "output_type": "display_data"
    },
    {
     "data": {
      "text/plain": "'Approximation Function'"
     },
     "metadata": {},
     "output_type": "display_data"
    },
    {
     "data": {
      "text/plain": "                                                       1                      \n──────────────────────────────────────────────────────────────────────────────\n                  10                     8                     6              \n5.19269260758224⋅w   - 10.3853852151645⋅w  + 7.26976965061514⋅w  - 2.077077043\n\n                                  \n──────────────────────────────────\n      4                      2    \n0329⋅w  + 0.259634630379112⋅w  + 1",
      "image/png": "[encoded data removed]",
      "text/latex": "$\\displaystyle \\frac{1}{5.19269260758224 w^{10} - 10.3853852151645 w^{8} + 7.26976965061514 w^{6} - 2.0770770430329 w^{4} + 0.259634630379112 w^{2} + 1}$"
     },
     "metadata": {},
     "output_type": "display_data"
    },
    {
     "data": {
      "text/plain": "'F(w) Function'"
     },
     "metadata": {},
     "output_type": "display_data"
    }
   ],
   "source": [
    "template.get_correct_approx_function()\n",
    "template.generate_fw_function()\n",
    "\n",
    "ipd.display(template.approximation_function_expr, \"Approximation Function\")\n",
    "ipd.display(template.fw_function, \"F(w) Function\")"
   ],
   "metadata": {
    "collapsed": false,
    "ExecuteTime": {
     "end_time": "2024-05-20T13:32:15.406708Z",
     "start_time": "2024-05-20T13:32:15.273014Z"
    }
   },
   "id": "831006f0250d640c",
   "execution_count": 10
  },
  {
   "cell_type": "markdown",
   "source": [
    "Then, the G(s) = F(s/j) is calculated and its pz map is drawn"
   ],
   "metadata": {
    "collapsed": false
   },
   "id": "6da0f11f434b12ba"
  },
  {
   "cell_type": "code",
   "outputs": [
    {
     "data": {
      "text/plain": "                                                        1                     \n──────────────────────────────────────────────────────────────────────────────\n                    10                     8                     6            \n- 5.19269260758224⋅s   - 10.3853852151645⋅s  - 7.26976965061514⋅s  - 2.0770770\n\n                                    \n────────────────────────────────────\n        4                      2    \n430329⋅s  - 0.259634630379112⋅s  + 1",
      "image/png": "[encoded data removed]",
      "text/latex": "$\\displaystyle \\frac{1}{- 5.19269260758224 s^{10} - 10.3853852151645 s^{8} - 7.26976965061514 s^{6} - 2.0770770430329 s^{4} - 0.259634630379112 s^{2} + 1}$"
     },
     "metadata": {},
     "output_type": "display_data"
    },
    {
     "data": {
      "text/plain": "'G(s) Function'"
     },
     "metadata": {},
     "output_type": "display_data"
    }
   ],
   "source": [
    "template.generate_gs_function()\n",
    "\n",
    "ipd.display(template.gs_function, \"G(s) Function\")"
   ],
   "metadata": {
    "collapsed": false,
    "ExecuteTime": {
     "end_time": "2024-05-20T13:32:15.501054Z",
     "start_time": "2024-05-20T13:32:15.407712Z"
    }
   },
   "id": "3166b725680c3602",
   "execution_count": 11
  },
  {
   "cell_type": "markdown",
   "source": [
    "Finally, the final transfer function is generated by culling the poles with positive real part"
   ],
   "metadata": {
    "collapsed": false
   },
   "id": "b44023dd60fb8d74"
  },
  {
   "cell_type": "code",
   "outputs": [
    {
     "data": {
      "text/plain": "<Figure size 640x480 with 1 Axes>",
      "image/png": "[encoded data removed]"
     },
     "metadata": {},
     "output_type": "display_data"
    },
    {
     "data": {
      "text/plain": "'Poles:'"
     },
     "metadata": {},
     "output_type": "display_data"
    },
    {
     "data": {
      "text/plain": "'1) Wo:1.0512032039660377, Phase:1.754692385426483, Q:2.7343125728541007'"
     },
     "metadata": {},
     "output_type": "display_data"
    },
    {
     "data": {
      "text/plain": "'2) Wo:1.0512032039660377, Phase:-1.754692385426483, Q:2.734312572854103'"
     },
     "metadata": {},
     "output_type": "display_data"
    },
    {
     "data": {
      "text/plain": "'3) Wo:0.8064928918170088, Phase:2.235675505411217, Q:0.8104199888162241'"
     },
     "metadata": {},
     "output_type": "display_data"
    },
    {
     "data": {
      "text/plain": "'4) Wo:0.8064928918170088, Phase:-2.235675505411217, Q:0.8104199888162243'"
     },
     "metadata": {},
     "output_type": "display_data"
    },
    {
     "data": {
      "text/plain": "'5) Wo:0.6105612713380343, Phase:3.141592653589793, Q:0.5'"
     },
     "metadata": {},
     "output_type": "display_data"
    },
    {
     "data": {
      "text/plain": "'Zeros:'"
     },
     "metadata": {},
     "output_type": "display_data"
    }
   ],
   "source": [
    "template.generate_final_tf()\n",
    "utl.print_pzm(template.final_function)"
   ],
   "metadata": {
    "collapsed": false,
    "ExecuteTime": {
     "end_time": "2024-05-20T13:32:15.699390Z",
     "start_time": "2024-05-20T13:32:15.502059Z"
    }
   },
   "id": "592f272f1d2c28b3",
   "execution_count": 12
  }
 ],
 "metadata": {
  "kernelspec": {
   "display_name": "Python 3",
   "language": "python",
   "name": "python3"
  },
  "language_info": {
   "codemirror_mode": {
    "name": "ipython",
    "version": 2
   },
   "file_extension": ".py",
   "mimetype": "text/x-python",
   "name": "python",
   "nbconvert_exporter": "python",
   "pygments_lexer": "ipython2",
   "version": "2.7.6"
  }
 },
 "nbformat": 4,
 "nbformat_minor": 5
}
