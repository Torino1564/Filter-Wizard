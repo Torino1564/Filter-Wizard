{
 "cells": [
  {
   "cell_type": "code",
   "outputs": [
    {
     "name": "stdout",
     "output_type": "stream",
     "text": [
      "Requirement already satisfied: sympy in c:\\dev\\filter-wizard\\.venv\\lib\\site-packages (1.12)\n",
      "Requirement already satisfied: numpy in c:\\dev\\filter-wizard\\.venv\\lib\\site-packages (1.26.4)\n",
      "Requirement already satisfied: matplotlib in c:\\dev\\filter-wizard\\.venv\\lib\\site-packages (3.8.4)\n",
      "Requirement already satisfied: scipy in c:\\dev\\filter-wizard\\.venv\\lib\\site-packages (1.13.0)\n",
      "Requirement already satisfied: mpmath>=0.19 in c:\\dev\\filter-wizard\\.venv\\lib\\site-packages (from sympy) (1.3.0)\n",
      "Requirement already satisfied: contourpy>=1.0.1 in c:\\dev\\filter-wizard\\.venv\\lib\\site-packages (from matplotlib) (1.2.1)\n",
      "Requirement already satisfied: cycler>=0.10 in c:\\dev\\filter-wizard\\.venv\\lib\\site-packages (from matplotlib) (0.12.1)\n",
      "Requirement already satisfied: fonttools>=4.22.0 in c:\\dev\\filter-wizard\\.venv\\lib\\site-packages (from matplotlib) (4.51.0)\n",
      "Requirement already satisfied: kiwisolver>=1.3.1 in c:\\dev\\filter-wizard\\.venv\\lib\\site-packages (from matplotlib) (1.4.5)\n",
      "Requirement already satisfied: packaging>=20.0 in c:\\dev\\filter-wizard\\.venv\\lib\\site-packages (from matplotlib) (24.0)\n",
      "Requirement already satisfied: pillow>=8 in c:\\dev\\filter-wizard\\.venv\\lib\\site-packages (from matplotlib) (10.3.0)\n",
      "Requirement already satisfied: pyparsing>=2.3.1 in c:\\dev\\filter-wizard\\.venv\\lib\\site-packages (from matplotlib) (3.1.2)\n",
      "Requirement already satisfied: python-dateutil>=2.7 in c:\\dev\\filter-wizard\\.venv\\lib\\site-packages (from matplotlib) (2.9.0.post0)\n",
      "Requirement already satisfied: six>=1.5 in c:\\dev\\filter-wizard\\.venv\\lib\\site-packages (from python-dateutil>=2.7->matplotlib) (1.16.0)\n"
     ]
    },
    {
     "name": "stderr",
     "output_type": "stream",
     "text": [
      "\n",
      "[notice] A new release of pip is available: 23.2.1 -> 24.0\n",
      "[notice] To update, run: python.exe -m pip install --upgrade pip\n"
     ]
    }
   ],
   "source": [
    "!pip install sympy numpy matplotlib scipy"
   ],
   "metadata": {
    "collapsed": false,
    "ExecuteTime": {
     "end_time": "2024-05-23T06:17:59.663310Z",
     "start_time": "2024-05-23T06:17:57.039548Z"
    }
   },
   "id": "aae1daec0ef464fb",
   "execution_count": 1277
  },
  {
   "cell_type": "code",
   "outputs": [],
   "source": [
    "import numpy as np\n",
    "import sympy as sp\n",
    "import matplotlib as plt\n",
    "import scipy as sc"
   ],
   "metadata": {
    "collapsed": false,
    "ExecuteTime": {
     "end_time": "2024-05-23T06:17:59.667193Z",
     "start_time": "2024-05-23T06:17:59.664304Z"
    }
   },
   "id": "4a222bf0feeb5a71",
   "execution_count": 1278
  },
  {
   "cell_type": "markdown",
   "source": [
    "This script aids the creation of a Sedra high pass notch filter\n",
    "Setup:"
   ],
   "metadata": {
    "collapsed": false
   },
   "id": "3316e74d212c0dd5"
  },
  {
   "cell_type": "code",
   "outputs": [],
   "source": [
    "# Desired parameters:\n",
    "Q = 5.25\n",
    "fp = 3667\n",
    "fz = 13794\n",
    "\n",
    "# Op-Amp parameters\n",
    "GBWP = 1000000\n",
    "\n",
    "# since this is a high pass notch filter, n1 has to be 0 so that transmission zeros are possible\n",
    "n1 = 0\n",
    "\n",
    "# since the gain of the system when the frequency goes to infinity has to be 1 for it to be normalized, n2 has to be 1 over the overshoot Q\n",
    "n2 = 0.028"
   ],
   "metadata": {
    "collapsed": false,
    "ExecuteTime": {
     "end_time": "2024-05-23T06:17:59.675449Z",
     "start_time": "2024-05-23T06:17:59.668185Z"
    }
   },
   "id": "30676bd9bf425d40",
   "execution_count": 1279
  },
  {
   "cell_type": "markdown",
   "source": [
    "1) The value of Qo has to be chosen according to the design parameters since it depends on the sensibility of the components."
   ],
   "metadata": {
    "collapsed": false
   },
   "id": "4089754336eab29b"
  },
  {
   "cell_type": "code",
   "outputs": [],
   "source": [
    "Qo = 2"
   ],
   "metadata": {
    "collapsed": false,
    "ExecuteTime": {
     "end_time": "2024-05-23T06:17:59.683046Z",
     "start_time": "2024-05-23T06:17:59.676442Z"
    }
   },
   "id": "65ee641a302b7271",
   "execution_count": 1280
  },
  {
   "cell_type": "markdown",
   "source": [
    "2) The parameters K, k and n are then calculated from the previous parameters"
   ],
   "metadata": {
    "collapsed": false
   },
   "id": "4938c0a955ec7bf4"
  },
  {
   "cell_type": "code",
   "outputs": [
    {
     "data": {
      "text/plain": "'K: 1.0773809523809523'"
     },
     "metadata": {},
     "output_type": "display_data"
    },
    {
     "data": {
      "text/plain": "'k: 0.04523076923076923'"
     },
     "metadata": {},
     "output_type": "display_data"
    },
    {
     "data": {
      "text/plain": "'n: 0.029237569060773478'"
     },
     "metadata": {},
     "output_type": "display_data"
    }
   ],
   "source": [
    "K = 1 + ((1/(2*Qo**2))*(1 - (Qo/Q)))\n",
    "k = n2 / (1 - (Qo/Q))\n",
    "n = k*(1 - (Qo/(K*Q)))\n",
    "\n",
    "display(\"K: {}\".format(K))\n",
    "display(\"k: {}\".format(k))\n",
    "display(\"n: {}\".format(n))\n"
   ],
   "metadata": {
    "collapsed": false,
    "ExecuteTime": {
     "end_time": "2024-05-23T06:17:59.693931Z",
     "start_time": "2024-05-23T06:17:59.684049Z"
    }
   },
   "id": "7784ae2fa22c629a",
   "execution_count": 1281
  },
  {
   "cell_type": "markdown",
   "source": [
    "The user must then pick a value for C41, and then select a value for C42 that fulfills the condition"
   ],
   "metadata": {
    "collapsed": false
   },
   "id": "51140c0316f50e0f"
  },
  {
   "cell_type": "code",
   "outputs": [
    {
     "data": {
      "text/plain": "'Maximum C42 value: 2.0179160880551825e-12'"
     },
     "metadata": {},
     "output_type": "display_data"
    }
   ],
   "source": [
    "C41 = 67e-12\n",
    "\n",
    "C42 = C41 * (n/(1 - n))\n",
    "display(\"Maximum C42 value: {}\".format(C42))"
   ],
   "metadata": {
    "collapsed": false,
    "ExecuteTime": {
     "end_time": "2024-05-23T06:17:59.700360Z",
     "start_time": "2024-05-23T06:17:59.694934Z"
    }
   },
   "id": "10701c83fd4a3a62",
   "execution_count": 1282
  },
  {
   "cell_type": "code",
   "outputs": [
    {
     "data": {
      "text/plain": "'C42 value: 2e-12'"
     },
     "metadata": {},
     "output_type": "display_data"
    },
    {
     "data": {
      "text/plain": "'Max C1 value: 1.1040000000000001e-09'"
     },
     "metadata": {},
     "output_type": "display_data"
    }
   ],
   "source": [
    "C42 = 2e-12\n",
    "display(\"C42 value: {}\".format(C42))\n",
    "\n",
    "C1 = 4*(Qo**2)*(C41 + C42)\n",
    "display(\"Max C1 value: {}\".format(C1))"
   ],
   "metadata": {
    "collapsed": false,
    "ExecuteTime": {
     "end_time": "2024-05-23T06:17:59.709586Z",
     "start_time": "2024-05-23T06:17:59.701367Z"
    }
   },
   "id": "74f8989afb9a71e9",
   "execution_count": 1283
  },
  {
   "cell_type": "markdown",
   "source": [
    "The user must then introduce a nominal value lower than the max C1"
   ],
   "metadata": {
    "collapsed": false
   },
   "id": "79fd5fb0da9b503c"
  },
  {
   "cell_type": "code",
   "outputs": [],
   "source": [
    "C1 = 1e-9"
   ],
   "metadata": {
    "collapsed": false,
    "ExecuteTime": {
     "end_time": "2024-05-23T06:17:59.715372Z",
     "start_time": "2024-05-23T06:17:59.710590Z"
    }
   },
   "id": "4dbfb2cf95198b1b",
   "execution_count": 1284
  },
  {
   "cell_type": "code",
   "outputs": [
    {
     "data": {
      "text/plain": "'Wp value: 23209.41911221169'"
     },
     "metadata": {},
     "output_type": "display_data"
    },
    {
     "data": {
      "text/plain": "'Qp value: 5.21297901951225'"
     },
     "metadata": {},
     "output_type": "display_data"
    }
   ],
   "source": [
    "wp = 2*np.pi*fp*(1 + Qo * (fp / GBWP))\n",
    "Qp = Q*(1 - 2*Qo*Q*(fp/GBWP)*((1/(2*Q)) - (fp/GBWP)))\n",
    "\n",
    "display(\"Wp value: {}\".format(wp))\n",
    "display(\"Qp value: {}\".format(Qp))"
   ],
   "metadata": {
    "collapsed": false,
    "ExecuteTime": {
     "end_time": "2024-05-23T06:17:59.725208Z",
     "start_time": "2024-05-23T06:17:59.716377Z"
    }
   },
   "id": "5b12f90f91ca6bf1",
   "execution_count": 1285
  },
  {
   "cell_type": "code",
   "outputs": [
    {
     "data": {
      "text/plain": "'G3 = G2 = 6.096615647333733e-06'"
     },
     "metadata": {},
     "output_type": "display_data"
    }
   ],
   "source": [
    "G3 = G2 = wp*(np.sqrt(C1*(C41 + C42)))\n",
    "\n",
    "display(\"G3 = G2 = {}\".format(G2))"
   ],
   "metadata": {
    "collapsed": false,
    "ExecuteTime": {
     "end_time": "2024-05-23T06:17:59.731971Z",
     "start_time": "2024-05-23T06:17:59.727214Z"
    }
   },
   "id": "f256a5cbc5e5636d",
   "execution_count": 1286
  },
  {
   "cell_type": "markdown",
   "source": [
    "Then the user must select a convenient value for Gb"
   ],
   "metadata": {
    "collapsed": false
   },
   "id": "4f8e8e832e5508ef"
  },
  {
   "cell_type": "code",
   "outputs": [
    {
     "data": {
      "text/plain": "'Ga value: 0.0008761067179667044'"
     },
     "metadata": {},
     "output_type": "display_data"
    }
   ],
   "source": [
    "Rb = 100\n",
    "Gb = 1/Rb\n",
    "\n",
    "Ga = Gb*(((C41 + C42)/C1)*((G2 + G3)/G3)-(wp*(C41 + C42)/(Qp*G3)))\n",
    "display(\"Ga value: {}\".format(Ga))"
   ],
   "metadata": {
    "collapsed": false,
    "ExecuteTime": {
     "end_time": "2024-05-23T06:17:59.740051Z",
     "start_time": "2024-05-23T06:17:59.732979Z"
    }
   },
   "id": "1c03e43b69b7c75e",
   "execution_count": 1287
  },
  {
   "cell_type": "code",
   "outputs": [
    {
     "data": {
      "text/plain": "Eq(C42*(G2 + G3)*(Ga1 + Ga2 + Gb)/(C1*Gb*(C41 + C42)), Ga2*(G3/(C41 + C42) + (G2 + G3)/C1)/Gb)",
      "text/latex": "$\\displaystyle \\frac{C_{42} \\left(G_{2} + G_{3}\\right) \\left(Ga_{1} + Ga_{2} + Gb\\right)}{C_{1} Gb \\left(C_{41} + C_{42}\\right)} = \\frac{Ga_{2} \\left(\\frac{G_{3}}{C_{41} + C_{42}} + \\frac{G_{2} + G_{3}}{C_{1}}\\right)}{Gb}$"
     },
     "metadata": {},
     "output_type": "display_data"
    },
    {
     "data": {
      "text/plain": "Eq(Ga1 + Ga2, Ga)",
      "text/latex": "$\\displaystyle Ga_{1} + Ga_{2} = Ga$"
     },
     "metadata": {},
     "output_type": "display_data"
    },
    {
     "data": {
      "text/plain": "'Ga1:'"
     },
     "metadata": {},
     "output_type": "display_data"
    },
    {
     "data": {
      "text/plain": "0.000837877871857858",
      "text/latex": "$\\displaystyle 0.000837877871857858$"
     },
     "metadata": {},
     "output_type": "display_data"
    },
    {
     "data": {
      "text/plain": "'Ga2:'"
     },
     "metadata": {},
     "output_type": "display_data"
    },
    {
     "data": {
      "text/plain": "3.82288461088458e-5",
      "text/latex": "$\\displaystyle 3.82288461088458 \\cdot 10^{-5}$"
     },
     "metadata": {},
     "output_type": "display_data"
    }
   ],
   "source": [
    "Ga1s, Ga2s, Gas, Gbs, C42s, C41s, G21s, G22s, G3s, C1s, G2s = sp.symbols('Ga1, Ga2, Ga, Gb, C42, C41, G21, G22, G3, C1, G2')\n",
    "lhs = ((Ga1s + Ga2s + Gbs)/Gbs)*(C42s/(C41s + C42s))*((G2s + G3s)/C1s)\n",
    "rhs = (Ga2s/Gbs)*((G3s/(C41s + C42s)) + ((G2s + G3s)/C1s))\n",
    "\n",
    "eq1 = sp.Eq(lhs, rhs)\n",
    "\n",
    "eq2 = sp.Eq(Ga1s + Ga2s, Gas)\n",
    "\n",
    "display(eq1)\n",
    "display(eq2)\n",
    "\n",
    "eq1 = eq1.subs(C42s, C42).subs(C41s, C41).subs(Gbs, Gb).subs(C1s, C1).subs(G3s, G3).subs(G2s, G2)\n",
    "eq2 = eq2.subs(Gas, Ga)\n",
    "\n",
    "solutions = sp.solve((eq1, eq2), (Ga1s, Ga2s))\n",
    "\n",
    "Ga1 = solutions[Ga1s]\n",
    "Ga2 = solutions[Ga2s]\n",
    "\n",
    "display(\"Ga1:\")\n",
    "display(Ga1)\n",
    "\n",
    "display(\"Ga2:\")\n",
    "display(Ga2)"
   ],
   "metadata": {
    "collapsed": false,
    "ExecuteTime": {
     "end_time": "2024-05-23T06:17:59.845914Z",
     "start_time": "2024-05-23T06:17:59.741056Z"
    }
   },
   "id": "5c87203e1ece66e5",
   "execution_count": 1288
  },
  {
   "cell_type": "code",
   "outputs": [
    {
     "data": {
      "text/plain": "'New n2'"
     },
     "metadata": {},
     "output_type": "display_data"
    },
    {
     "data": {
      "text/plain": "0.0277020623977145",
      "text/latex": "$\\displaystyle 0.0277020623977145$"
     },
     "metadata": {},
     "output_type": "display_data"
    }
   ],
   "source": [
    "new_n2 = ((Ga1 + Ga2 + Gb)/Gb)*(C42/(C41 + C42)) - (Ga2/Gb)\n",
    "display(\"New n2\")\n",
    "display(new_n2)"
   ],
   "metadata": {
    "collapsed": false,
    "ExecuteTime": {
     "end_time": "2024-05-23T06:17:59.852293Z",
     "start_time": "2024-05-23T06:17:59.846919Z"
    }
   },
   "id": "8db1c7dc9fcf4bc0",
   "execution_count": 1289
  },
  {
   "cell_type": "code",
   "outputs": [
    {
     "data": {
      "text/plain": "Eq(n2*wz**2, G2*G3*(G22*(Ga1 + Ga2 + Gb)/(Gb*(G21 + G22)) - Ga2/Gb)/(C1*(C41 + C42)))",
      "text/latex": "$\\displaystyle n_{2} wz^{2} = \\frac{G_{2} G_{3} \\left(\\frac{G_{22} \\left(Ga_{1} + Ga_{2} + Gb\\right)}{Gb \\left(G_{21} + G_{22}\\right)} - \\frac{Ga_{2}}{Gb}\\right)}{C_{1} \\left(C_{41} + C_{42}\\right)}$"
     },
     "metadata": {},
     "output_type": "display_data"
    },
    {
     "data": {
      "text/plain": "Eq(G21 + G22, G2)",
      "text/latex": "$\\displaystyle G_{21} + G_{22} = G_{2}$"
     },
     "metadata": {},
     "output_type": "display_data"
    },
    {
     "data": {
      "text/plain": "3.90978160787263e-6",
      "text/latex": "$\\displaystyle 3.90978160787263 \\cdot 10^{-6}$"
     },
     "metadata": {},
     "output_type": "display_data"
    },
    {
     "data": {
      "text/plain": "2.18683403946110e-6",
      "text/latex": "$\\displaystyle 2.1868340394611 \\cdot 10^{-6}$"
     },
     "metadata": {},
     "output_type": "display_data"
    },
    {
     "data": {
      "text/plain": "'R21: 255768.761607151'"
     },
     "metadata": {},
     "output_type": "display_data"
    },
    {
     "data": {
      "text/plain": "'R22: 457282.071686808'"
     },
     "metadata": {},
     "output_type": "display_data"
    },
    {
     "data": {
      "text/plain": "'Ra1: 1193.49135904814'"
     },
     "metadata": {},
     "output_type": "display_data"
    },
    {
     "data": {
      "text/plain": "'Ra2: 26158.2574884103'"
     },
     "metadata": {},
     "output_type": "display_data"
    },
    {
     "data": {
      "text/plain": "'R3: 164025.4294917436'"
     },
     "metadata": {},
     "output_type": "display_data"
    },
    {
     "data": {
      "text/plain": "'Rb: 100.0'"
     },
     "metadata": {},
     "output_type": "display_data"
    },
    {
     "data": {
      "text/plain": "'C41: 6.7e-11'"
     },
     "metadata": {},
     "output_type": "display_data"
    },
    {
     "data": {
      "text/plain": "'C42: 2e-12'"
     },
     "metadata": {},
     "output_type": "display_data"
    },
    {
     "data": {
      "text/plain": "'C1: 1e-09'"
     },
     "metadata": {},
     "output_type": "display_data"
    },
    {
     "data": {
      "text/plain": "'N2: 0.0277020623977145'"
     },
     "metadata": {},
     "output_type": "display_data"
    }
   ],
   "source": [
    "n2s, wzs = sp.symbols('n2, wz')\n",
    "\n",
    "lhs = n2s * wzs**2\n",
    "rhs = (G3s * G2s) / (C1s * (C41s + C42s)) * ((G22s / (G21s + G22s)) * ((Ga1s + Ga2s + Gbs) / Gbs) - (Ga2s / Gbs))\n",
    "\n",
    "eq1 = sp.Eq(lhs, rhs)\n",
    "\n",
    "display(eq1)\n",
    "\n",
    "eq1 = eq1.subs(G3s, G3).subs(Ga1s, Ga1).subs(Ga2s, Ga2).subs(Gbs, Gb).subs(C1s, C1).subs(C41s, C41).subs(C42s, C42).subs(n2s, new_n2).subs(wzs, 2*np.pi*fz).subs(G2s, G2)\n",
    "\n",
    "eq2 = sp.Eq(G21s + G22s, G2s)\n",
    "\n",
    "display(eq2)\n",
    "\n",
    "eq2 = eq2.subs(G2s, G2)\n",
    "\n",
    "solutions = sp.solve((eq1, eq2), (G21s, G22s))\n",
    "\n",
    "display(solutions[G21s])\n",
    "display(solutions[G22s])\n",
    "\n",
    "display(\"R21: {}\".format(1/solutions[G21s]))\n",
    "display(\"R22: {}\".format(1/solutions[G22s]))\n",
    "display(\"Ra1: {}\".format(1/Ga1))\n",
    "display(\"Ra2: {}\".format(1/Ga2))\n",
    "display(\"R3: {}\".format(1/G3))\n",
    "display(\"Rb: {}\".format(1/Gb))\n",
    "display(\"C41: {}\".format(C41))\n",
    "display(\"C42: {}\".format(C42))\n",
    "display(\"C1: {}\".format(C1))\n",
    "display(\"N2: {}\" .format(new_n2))"
   ],
   "metadata": {
    "collapsed": false,
    "ExecuteTime": {
     "end_time": "2024-05-23T06:17:59.968875Z",
     "start_time": "2024-05-23T06:17:59.853297Z"
    }
   },
   "id": "e01ad59d2a518607",
   "execution_count": 1290
  }
 ],
 "metadata": {
  "kernelspec": {
   "display_name": "Python 3",
   "language": "python",
   "name": "python3"
  },
  "language_info": {
   "codemirror_mode": {
    "name": "ipython",
    "version": 2
   },
   "file_extension": ".py",
   "mimetype": "text/x-python",
   "name": "python",
   "nbconvert_exporter": "python",
   "pygments_lexer": "ipython2",
   "version": "2.7.6"
  }
 },
 "nbformat": 4,
 "nbformat_minor": 5
}
