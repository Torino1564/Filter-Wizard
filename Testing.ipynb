{
 "cells": [
  {
   "cell_type": "code",
   "execution_count": 1,
   "id": "initial_id",
   "metadata": {
    "ExecuteTime": {
     "end_time": "2024-05-22T01:02:05.150658Z",
     "start_time": "2024-05-22T01:02:00.820499Z"
    }
   },
   "outputs": [
    {
     "name": "stdout",
     "output_type": "stream",
     "text": [
      "Requirement already satisfied: ipympl in d:\\dev\\filter-wizard\\.venv\\lib\\site-packages (0.9.4)\n",
      "Requirement already satisfied: ipython-genutils in d:\\dev\\filter-wizard\\.venv\\lib\\site-packages (from ipympl) (0.2.0)\n",
      "Requirement already satisfied: ipython<9 in d:\\dev\\filter-wizard\\.venv\\lib\\site-packages (from ipympl) (8.24.0)\n",
      "Requirement already satisfied: ipywidgets<9,>=7.6.0 in d:\\dev\\filter-wizard\\.venv\\lib\\site-packages (from ipympl) (8.1.2)\n",
      "Requirement already satisfied: matplotlib<4,>=3.4.0 in d:\\dev\\filter-wizard\\.venv\\lib\\site-packages (from ipympl) (3.9.0)\n",
      "Requirement already satisfied: numpy in d:\\dev\\filter-wizard\\.venv\\lib\\site-packages (from ipympl) (1.26.4)\n",
      "Requirement already satisfied: pillow in d:\\dev\\filter-wizard\\.venv\\lib\\site-packages (from ipympl) (10.3.0)\n",
      "Requirement already satisfied: traitlets<6 in d:\\dev\\filter-wizard\\.venv\\lib\\site-packages (from ipympl) (5.14.3)\n",
      "Requirement already satisfied: decorator in d:\\dev\\filter-wizard\\.venv\\lib\\site-packages (from ipython<9->ipympl) (5.1.1)\n",
      "Requirement already satisfied: jedi>=0.16 in d:\\dev\\filter-wizard\\.venv\\lib\\site-packages (from ipython<9->ipympl) (0.19.1)\n",
      "Requirement already satisfied: matplotlib-inline in d:\\dev\\filter-wizard\\.venv\\lib\\site-packages (from ipython<9->ipympl) (0.1.7)\n",
      "Requirement already satisfied: prompt-toolkit<3.1.0,>=3.0.41 in d:\\dev\\filter-wizard\\.venv\\lib\\site-packages (from ipython<9->ipympl) (3.0.43)\n",
      "Requirement already satisfied: pygments>=2.4.0 in d:\\dev\\filter-wizard\\.venv\\lib\\site-packages (from ipython<9->ipympl) (2.18.0)\n",
      "Requirement already satisfied: stack-data in d:\\dev\\filter-wizard\\.venv\\lib\\site-packages (from ipython<9->ipympl) (0.6.3)\n",
      "Requirement already satisfied: colorama in d:\\dev\\filter-wizard\\.venv\\lib\\site-packages (from ipython<9->ipympl) (0.4.6)\n",
      "Requirement already satisfied: comm>=0.1.3 in d:\\dev\\filter-wizard\\.venv\\lib\\site-packages (from ipywidgets<9,>=7.6.0->ipympl) (0.2.2)\n",
      "Requirement already satisfied: widgetsnbextension~=4.0.10 in d:\\dev\\filter-wizard\\.venv\\lib\\site-packages (from ipywidgets<9,>=7.6.0->ipympl) (4.0.10)\n",
      "Requirement already satisfied: jupyterlab-widgets~=3.0.10 in d:\\dev\\filter-wizard\\.venv\\lib\\site-packages (from ipywidgets<9,>=7.6.0->ipympl) (3.0.10)\n",
      "Requirement already satisfied: contourpy>=1.0.1 in d:\\dev\\filter-wizard\\.venv\\lib\\site-packages (from matplotlib<4,>=3.4.0->ipympl) (1.2.1)\n",
      "Requirement already satisfied: cycler>=0.10 in d:\\dev\\filter-wizard\\.venv\\lib\\site-packages (from matplotlib<4,>=3.4.0->ipympl) (0.12.1)\n",
      "Requirement already satisfied: fonttools>=4.22.0 in d:\\dev\\filter-wizard\\.venv\\lib\\site-packages (from matplotlib<4,>=3.4.0->ipympl) (4.51.0)\n",
      "Requirement already satisfied: kiwisolver>=1.3.1 in d:\\dev\\filter-wizard\\.venv\\lib\\site-packages (from matplotlib<4,>=3.4.0->ipympl) (1.4.5)\n",
      "Requirement already satisfied: packaging>=20.0 in d:\\dev\\filter-wizard\\.venv\\lib\\site-packages (from matplotlib<4,>=3.4.0->ipympl) (24.0)\n",
      "Requirement already satisfied: pyparsing>=2.3.1 in d:\\dev\\filter-wizard\\.venv\\lib\\site-packages (from matplotlib<4,>=3.4.0->ipympl) (3.1.2)\n",
      "Requirement already satisfied: python-dateutil>=2.7 in d:\\dev\\filter-wizard\\.venv\\lib\\site-packages (from matplotlib<4,>=3.4.0->ipympl) (2.9.0.post0)\n",
      "Requirement already satisfied: parso<0.9.0,>=0.8.3 in d:\\dev\\filter-wizard\\.venv\\lib\\site-packages (from jedi>=0.16->ipython<9->ipympl) (0.8.4)\n",
      "Requirement already satisfied: wcwidth in d:\\dev\\filter-wizard\\.venv\\lib\\site-packages (from prompt-toolkit<3.1.0,>=3.0.41->ipython<9->ipympl) (0.2.13)\n",
      "Requirement already satisfied: six>=1.5 in d:\\dev\\filter-wizard\\.venv\\lib\\site-packages (from python-dateutil>=2.7->matplotlib<4,>=3.4.0->ipympl) (1.16.0)\n",
      "Requirement already satisfied: executing>=1.2.0 in d:\\dev\\filter-wizard\\.venv\\lib\\site-packages (from stack-data->ipython<9->ipympl) (2.0.1)\n",
      "Requirement already satisfied: asttokens>=2.1.0 in d:\\dev\\filter-wizard\\.venv\\lib\\site-packages (from stack-data->ipython<9->ipympl) (2.4.1)\n",
      "Requirement already satisfied: pure-eval in d:\\dev\\filter-wizard\\.venv\\lib\\site-packages (from stack-data->ipython<9->ipympl) (0.2.2)\n"
     ]
    },
    {
     "name": "stderr",
     "output_type": "stream",
     "text": [
      "\n",
      "[notice] A new release of pip is available: 23.2.1 -> 24.0\n",
      "[notice] To update, run: python.exe -m pip install --upgrade pip\n"
     ]
    },
    {
     "name": "stdout",
     "output_type": "stream",
     "text": [
      "Requirement already satisfied: numpy in d:\\dev\\filter-wizard\\.venv\\lib\\site-packages (1.26.4)\n",
      "Requirement already satisfied: scipy in d:\\dev\\filter-wizard\\.venv\\lib\\site-packages (1.13.0)\n",
      "Requirement already satisfied: sympy in d:\\dev\\filter-wizard\\.venv\\lib\\site-packages (1.12)\n",
      "Requirement already satisfied: matplotlib in d:\\dev\\filter-wizard\\.venv\\lib\\site-packages (3.9.0)\n",
      "Requirement already satisfied: mpmath>=0.19 in d:\\dev\\filter-wizard\\.venv\\lib\\site-packages (from sympy) (1.3.0)\n",
      "Requirement already satisfied: contourpy>=1.0.1 in d:\\dev\\filter-wizard\\.venv\\lib\\site-packages (from matplotlib) (1.2.1)\n",
      "Requirement already satisfied: cycler>=0.10 in d:\\dev\\filter-wizard\\.venv\\lib\\site-packages (from matplotlib) (0.12.1)\n",
      "Requirement already satisfied: fonttools>=4.22.0 in d:\\dev\\filter-wizard\\.venv\\lib\\site-packages (from matplotlib) (4.51.0)\n",
      "Requirement already satisfied: kiwisolver>=1.3.1 in d:\\dev\\filter-wizard\\.venv\\lib\\site-packages (from matplotlib) (1.4.5)\n",
      "Requirement already satisfied: packaging>=20.0 in d:\\dev\\filter-wizard\\.venv\\lib\\site-packages (from matplotlib) (24.0)\n",
      "Requirement already satisfied: pillow>=8 in d:\\dev\\filter-wizard\\.venv\\lib\\site-packages (from matplotlib) (10.3.0)\n",
      "Requirement already satisfied: pyparsing>=2.3.1 in d:\\dev\\filter-wizard\\.venv\\lib\\site-packages (from matplotlib) (3.1.2)\n",
      "Requirement already satisfied: python-dateutil>=2.7 in d:\\dev\\filter-wizard\\.venv\\lib\\site-packages (from matplotlib) (2.9.0.post0)\n",
      "Requirement already satisfied: six>=1.5 in d:\\dev\\filter-wizard\\.venv\\lib\\site-packages (from python-dateutil>=2.7->matplotlib) (1.16.0)\n"
     ]
    },
    {
     "name": "stderr",
     "output_type": "stream",
     "text": [
      "\n",
      "[notice] A new release of pip is available: 23.2.1 -> 24.0\n",
      "[notice] To update, run: python.exe -m pip install --upgrade pip\n"
     ]
    }
   ],
   "source": [
    "!pip install ipympl\n",
    "!pip install numpy scipy sympy matplotlib"
   ]
  },
  {
   "cell_type": "code",
   "execution_count": 2,
   "id": "87c5c36eb9a78835",
   "metadata": {
    "ExecuteTime": {
     "end_time": "2024-05-22T01:02:05.159711Z",
     "start_time": "2024-05-22T01:02:05.151658Z"
    },
    "collapsed": false,
    "jupyter": {
     "outputs_hidden": false
    }
   },
   "outputs": [],
   "source": [
    "import matplotlib.pyplot as plt\n",
    "import scipy as sc\n",
    "import numpy as np\n",
    "import sympy as sp\n",
    "import utils as utl\n",
    "%matplotlib widget"
   ]
  },
  {
   "cell_type": "markdown",
   "id": "5f220c1010e2668f",
   "metadata": {
    "collapsed": false,
    "jupyter": {
     "outputs_hidden": false
    }
   },
   "source": [
    "Define symbols HPN"
   ]
  },
  {
   "cell_type": "code",
   "execution_count": 3,
   "id": "ec65281f5e3d40fd",
   "metadata": {
    "ExecuteTime": {
     "end_time": "2024-05-22T01:02:05.172445Z",
     "start_time": "2024-05-22T01:02:05.160713Z"
    },
    "collapsed": false,
    "jupyter": {
     "outputs_hidden": false
    }
   },
   "outputs": [
    {
     "name": "stdout",
     "output_type": "stream",
     "text": [
      "        ⎛  2    ⎞   \n",
      "      2 ⎜ s     ⎟   \n",
      "  K⋅wz ⋅⎜─── + 1⎟   \n",
      "        ⎜  2    ⎟   \n",
      "        ⎝wz     ⎠   \n",
      "────────────────────\n",
      "    ⎛  2           ⎞\n",
      "  2 ⎜ s         s  ⎟\n",
      "wo ⋅⎜─── + 1 + ────⎟\n",
      "    ⎜  2       Q⋅wo⎟\n",
      "    ⎝wo            ⎠\n"
     ]
    }
   ],
   "source": [
    "w, s, K, Ko, wo, wz, Q, wcf = sp.symbols('w, s, K, Ko, wo, wz, Q, wcf', real=True)\n",
    "H = K * (wz/wo)**2 * ((s/wz)**2 + 1)/( (s/wo)**2 + (s/(wo*Q) + 1))\n",
    "sp.pprint(H)"
   ]
  },
  {
   "cell_type": "code",
   "execution_count": 4,
   "id": "b91508231ebef602",
   "metadata": {
    "ExecuteTime": {
     "end_time": "2024-05-22T01:02:05.224310Z",
     "start_time": "2024-05-22T01:02:05.174443Z"
    },
    "collapsed": false,
    "jupyter": {
     "outputs_hidden": false
    }
   },
   "outputs": [
    {
     "name": "stdout",
     "output_type": "stream",
     "text": [
      "    ⎛  2    ⎞ \n",
      "    ⎜ s     ⎟ \n",
      " Ko⋅⎜─── + 1⎟ \n",
      "    ⎜  2    ⎟ \n",
      "    ⎝wz     ⎠ \n",
      "──────────────\n",
      "  2           \n",
      " s         s  \n",
      "─── + 1 + ────\n",
      "  2       Q⋅wo\n",
      "wo            \n",
      "         │   ⎛  2    ⎞│        \n",
      "         │   ⎜ w     ⎟│        \n",
      "         │Ko⋅⎜─── - 1⎟│        \n",
      "         │   ⎜  2    ⎟│        \n",
      "         │   ⎝wz     ⎠│        \n",
      "───────────────────────────────\n",
      "      _________________________\n",
      "     ╱   4      2          2   \n",
      "    ╱   w    2⋅w          w    \n",
      "   ╱   ─── - ──── + 1 + ────── \n",
      "  ╱      4     2         2   2 \n",
      "╲╱     wo    wo         Q ⋅wo  \n"
     ]
    }
   ],
   "source": [
    "# LPN\n",
    "\n",
    "Hlpn = Ko * ((s/wz)**2 + 1)/( (s/wo)**2 + (s/(wo*Q) + 1))\n",
    "sp.pprint(Hlpn)\n",
    "Hlpnw = Hlpn.subs(s, w*sp.I)\n",
    "Hlpnw_abs = sp.Abs(Hlpnw).simplify()\n",
    "sp.pprint(Hlpnw_abs)"
   ]
  },
  {
   "cell_type": "code",
   "execution_count": 5,
   "id": "cf3eab58ef12b657",
   "metadata": {
    "ExecuteTime": {
     "end_time": "2024-05-22T01:02:05.235461Z",
     "start_time": "2024-05-22T01:02:05.225310Z"
    },
    "collapsed": false,
    "jupyter": {
     "outputs_hidden": false
    }
   },
   "outputs": [
    {
     "name": "stdout",
     "output_type": "stream",
     "text": [
      "        ⎛    2    ⎞   \n",
      "      2 ⎜   w     ⎟   \n",
      "  K⋅wz ⋅⎜- ─── + 1⎟   \n",
      "        ⎜    2    ⎟   \n",
      "        ⎝  wz     ⎠   \n",
      "──────────────────────\n",
      "    ⎛    2           ⎞\n",
      "  2 ⎜   w        ⅈ⋅w ⎟\n",
      "wo ⋅⎜- ─── + 1 + ────⎟\n",
      "    ⎜    2       Q⋅wo⎟\n",
      "    ⎝  wo            ⎠\n"
     ]
    }
   ],
   "source": [
    "Hw = H.subs(s, w*sp.I)\n",
    "sp.pprint(Hw)"
   ]
  },
  {
   "cell_type": "markdown",
   "id": "2644fa123abe8cd3",
   "metadata": {
    "collapsed": false,
    "jupyter": {
     "outputs_hidden": false
    }
   },
   "source": [
    "Calculate the absolute value and evaluate in Wcf"
   ]
  },
  {
   "cell_type": "code",
   "execution_count": 6,
   "id": "2cb54d0bd2518368",
   "metadata": {
    "ExecuteTime": {
     "end_time": "2024-05-22T01:02:05.340063Z",
     "start_time": "2024-05-22T01:02:05.236462Z"
    },
    "collapsed": false,
    "jupyter": {
     "outputs_hidden": false
    }
   },
   "outputs": [
    {
     "name": "stdout",
     "output_type": "stream",
     "text": [
      "           │  ⎛  2    ⎞│       \n",
      "           │  ⎜ w     ⎟│       \n",
      "           │K⋅⎜─── - 1⎟│       \n",
      "           │  ⎜  2    ⎟│       \n",
      "         2 │  ⎝wz     ⎠│       \n",
      "       wz ⋅│───────────│       \n",
      "           │      2    │       \n",
      "           │    wo     │       \n",
      "───────────────────────────────\n",
      "      _________________________\n",
      "     ╱   4      2          2   \n",
      "    ╱   w    2⋅w          w    \n",
      "   ╱   ─── - ──── + 1 + ────── \n",
      "  ╱      4     2         2   2 \n",
      "╲╱     wo    wo         Q ⋅wo  \n",
      "         │   ⎛  2    ⎞│        \n",
      "         │   ⎜ w     ⎟│        \n",
      "         │Ko⋅⎜─── - 1⎟│        \n",
      "         │   ⎜  2    ⎟│        \n",
      "         │   ⎝wz     ⎠│        \n",
      "───────────────────────────────\n",
      "      _________________________\n",
      "     ╱   4      2          2   \n",
      "    ╱   w    2⋅w          w    \n",
      "   ╱   ─── - ──── + 1 + ────── \n",
      "  ╱      4     2         2   2 \n",
      "╲╱     wo    wo         Q ⋅wo  \n",
      "             │                     2      │             \n",
      "             │2.10215050295352e-9⋅w  - 0.4│             \n",
      "────────────────────────────────────────────────────────\n",
      "   _____________________________________________________\n",
      "  ╱                      4                        2     \n",
      "╲╱  5.5265987463304e-15⋅w  - 1.45985011912531e-7⋅w  + 1 \n",
      "0.400271142453012\n"
     ]
    }
   ],
   "source": [
    "H_abs = sp.Abs(Hw).simplify()\n",
    "# sp.pprint(H_abs)\n",
    "result = H_abs.simplify()\n",
    "sp.pprint(result)\n",
    "result = result.subs(wz, 742.24).subs(wo, 2791.63).subs(Q, 5.25).subs(K, 0.4)\n",
    "sp.pprint(Hlpnw_abs)\n",
    "Hlpnw_abs_num = Hlpnw_abs.subs(wz, 13794.25).subs(wo, 3667.63).subs(Q, 5.25).subs(Ko, 0.4)\n",
    "sp.pprint(Hlpnw_abs_num)\n",
    "hlpn_0 = Hlpnw_abs_num.subs(w,100)\n",
    "sp.pprint(hlpn_0)"
   ]
  },
  {
   "cell_type": "code",
   "execution_count": 7,
   "id": "23a440b7c3a83ce5",
   "metadata": {
    "ExecuteTime": {
     "end_time": "2024-05-22T01:02:05.645735Z",
     "start_time": "2024-05-22T01:02:05.341064Z"
    },
    "collapsed": false,
    "jupyter": {
     "outputs_hidden": false
    }
   },
   "outputs": [
    {
     "data": {
      "application/vnd.jupyter.widget-view+json": {
       "model_id": "85a11e168a9e4b23ad7d2bcc047daad5",
       "version_major": 2,
       "version_minor": 0
      },
      "image/png": "[encoded data removed]",
      "text/html": [
       "\n",
       "            <div style=\"display: inline-block;\">\n",
       "                <div class=\"jupyter-widgets widget-label\" style=\"text-align: center;\">\n",
       "                    Figure\n",
       "                </div>\n",
       "                <img src='data:image/png;base64,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' width=640.0/>\n",
       "            </div>\n",
       "        "
      ],
      "text/plain": [
       "Canvas(toolbar=Toolbar(toolitems=[('Home', 'Reset original view', 'home', 'home'), ('Back', 'Back to previous …"
      ]
     },
     "metadata": {},
     "output_type": "display_data"
    }
   ],
   "source": [
    "G = sp.lambdify(w, result, 'numpy')\n",
    "F = sp.lambdify(w, Hlpnw_abs_num, 'numpy')\n",
    "\n",
    "wrange = np.linspace(1, 10e6, 100000)\n",
    "\n",
    "G = 20*np.log10(G(wrange))\n",
    "F = 20*np.log10(F(wrange))\n",
    "\n",
    "\n",
    "plt.figure()\n",
    "plt.semilogx(wrange, G, label='hp')\n",
    "plt.semilogx(wrange, F, label='lp')\n",
    "plt.semilogx(wrange,F+G, label=\"bp\")\n",
    "plt.legend(loc='best')\n",
    "plt.show()"
   ]
  },
  {
   "cell_type": "code",
   "execution_count": 8,
   "id": "5e91bd85fe8068c9",
   "metadata": {
    "ExecuteTime": {
     "end_time": "2024-05-22T01:02:05.655117Z",
     "start_time": "2024-05-22T01:02:05.646735Z"
    },
    "collapsed": false,
    "jupyter": {
     "outputs_hidden": false
    }
   },
   "outputs": [
    {
     "name": "stdout",
     "output_type": "stream",
     "text": [
      "0.407158826459713\n"
     ]
    }
   ],
   "source": [
    "result = result.subs(w, 20106.19)\n",
    "sp.pprint(result)"
   ]
  }
 ],
 "metadata": {
  "kernelspec": {
   "display_name": "Python 3 (ipykernel)",
   "language": "python",
   "name": "python3"
  },
  "language_info": {
   "codemirror_mode": {
    "name": "ipython",
    "version": 3
   },
   "file_extension": ".py",
   "mimetype": "text/x-python",
   "name": "python",
   "nbconvert_exporter": "python",
   "pygments_lexer": "ipython3",
   "version": "3.12.0"
  }
 },
 "nbformat": 4,
 "nbformat_minor": 5
}
