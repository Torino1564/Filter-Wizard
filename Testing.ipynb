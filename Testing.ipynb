{
 "cells": [
  {
   "cell_type": "code",
   "execution_count": 1,
   "id": "initial_id",
   "metadata": {
    "ExecuteTime": {
     "end_time": "2024-05-23T05:32:28.529566Z",
     "start_time": "2024-05-23T05:32:23.214323Z"
    }
   },
   "outputs": [
    {
     "name": "stdout",
     "output_type": "stream",
     "text": [
      "Requirement already satisfied: ipympl in c:\\dev\\filter-wizard\\.venv\\lib\\site-packages (0.9.4)\n",
      "Requirement already satisfied: ipython-genutils in c:\\dev\\filter-wizard\\.venv\\lib\\site-packages (from ipympl) (0.2.0)\n",
      "Requirement already satisfied: ipython<9 in c:\\dev\\filter-wizard\\.venv\\lib\\site-packages (from ipympl) (8.24.0)\n",
      "Requirement already satisfied: ipywidgets<9,>=7.6.0 in c:\\dev\\filter-wizard\\.venv\\lib\\site-packages (from ipympl) (8.1.2)\n",
      "Requirement already satisfied: matplotlib<4,>=3.4.0 in c:\\dev\\filter-wizard\\.venv\\lib\\site-packages (from ipympl) (3.8.4)\n",
      "Requirement already satisfied: numpy in c:\\dev\\filter-wizard\\.venv\\lib\\site-packages (from ipympl) (1.26.4)\n",
      "Requirement already satisfied: pillow in c:\\dev\\filter-wizard\\.venv\\lib\\site-packages (from ipympl) (10.3.0)\n",
      "Requirement already satisfied: traitlets<6 in c:\\dev\\filter-wizard\\.venv\\lib\\site-packages (from ipympl) (5.14.3)\n",
      "Requirement already satisfied: decorator in c:\\dev\\filter-wizard\\.venv\\lib\\site-packages (from ipython<9->ipympl) (5.1.1)\n",
      "Requirement already satisfied: jedi>=0.16 in c:\\dev\\filter-wizard\\.venv\\lib\\site-packages (from ipython<9->ipympl) (0.19.1)\n",
      "Requirement already satisfied: matplotlib-inline in c:\\dev\\filter-wizard\\.venv\\lib\\site-packages (from ipython<9->ipympl) (0.1.7)\n",
      "Requirement already satisfied: prompt-toolkit<3.1.0,>=3.0.41 in c:\\dev\\filter-wizard\\.venv\\lib\\site-packages (from ipython<9->ipympl) (3.0.43)\n",
      "Requirement already satisfied: pygments>=2.4.0 in c:\\dev\\filter-wizard\\.venv\\lib\\site-packages (from ipython<9->ipympl) (2.18.0)\n",
      "Requirement already satisfied: stack-data in c:\\dev\\filter-wizard\\.venv\\lib\\site-packages (from ipython<9->ipympl) (0.6.3)\n",
      "Requirement already satisfied: colorama in c:\\dev\\filter-wizard\\.venv\\lib\\site-packages (from ipython<9->ipympl) (0.4.6)\n",
      "Requirement already satisfied: comm>=0.1.3 in c:\\dev\\filter-wizard\\.venv\\lib\\site-packages (from ipywidgets<9,>=7.6.0->ipympl) (0.2.2)\n",
      "Requirement already satisfied: widgetsnbextension~=4.0.10 in c:\\dev\\filter-wizard\\.venv\\lib\\site-packages (from ipywidgets<9,>=7.6.0->ipympl) (4.0.10)\n",
      "Requirement already satisfied: jupyterlab-widgets~=3.0.10 in c:\\dev\\filter-wizard\\.venv\\lib\\site-packages (from ipywidgets<9,>=7.6.0->ipympl) (3.0.10)\n",
      "Requirement already satisfied: contourpy>=1.0.1 in c:\\dev\\filter-wizard\\.venv\\lib\\site-packages (from matplotlib<4,>=3.4.0->ipympl) (1.2.1)\n",
      "Requirement already satisfied: cycler>=0.10 in c:\\dev\\filter-wizard\\.venv\\lib\\site-packages (from matplotlib<4,>=3.4.0->ipympl) (0.12.1)\n",
      "Requirement already satisfied: fonttools>=4.22.0 in c:\\dev\\filter-wizard\\.venv\\lib\\site-packages (from matplotlib<4,>=3.4.0->ipympl) (4.51.0)\n",
      "Requirement already satisfied: kiwisolver>=1.3.1 in c:\\dev\\filter-wizard\\.venv\\lib\\site-packages (from matplotlib<4,>=3.4.0->ipympl) (1.4.5)\n",
      "Requirement already satisfied: packaging>=20.0 in c:\\dev\\filter-wizard\\.venv\\lib\\site-packages (from matplotlib<4,>=3.4.0->ipympl) (24.0)\n",
      "Requirement already satisfied: pyparsing>=2.3.1 in c:\\dev\\filter-wizard\\.venv\\lib\\site-packages (from matplotlib<4,>=3.4.0->ipympl) (3.1.2)\n",
      "Requirement already satisfied: python-dateutil>=2.7 in c:\\dev\\filter-wizard\\.venv\\lib\\site-packages (from matplotlib<4,>=3.4.0->ipympl) (2.9.0.post0)\n",
      "Requirement already satisfied: parso<0.9.0,>=0.8.3 in c:\\dev\\filter-wizard\\.venv\\lib\\site-packages (from jedi>=0.16->ipython<9->ipympl) (0.8.4)\n",
      "Requirement already satisfied: wcwidth in c:\\dev\\filter-wizard\\.venv\\lib\\site-packages (from prompt-toolkit<3.1.0,>=3.0.41->ipython<9->ipympl) (0.2.13)\n",
      "Requirement already satisfied: six>=1.5 in c:\\dev\\filter-wizard\\.venv\\lib\\site-packages (from python-dateutil>=2.7->matplotlib<4,>=3.4.0->ipympl) (1.16.0)\n",
      "Requirement already satisfied: executing>=1.2.0 in c:\\dev\\filter-wizard\\.venv\\lib\\site-packages (from stack-data->ipython<9->ipympl) (2.0.1)\n",
      "Requirement already satisfied: asttokens>=2.1.0 in c:\\dev\\filter-wizard\\.venv\\lib\\site-packages (from stack-data->ipython<9->ipympl) (2.4.1)\n",
      "Requirement already satisfied: pure-eval in c:\\dev\\filter-wizard\\.venv\\lib\\site-packages (from stack-data->ipython<9->ipympl) (0.2.2)\n"
     ]
    },
    {
     "name": "stderr",
     "output_type": "stream",
     "text": [
      "\n",
      "[notice] A new release of pip is available: 23.2.1 -> 24.0\n",
      "[notice] To update, run: python.exe -m pip install --upgrade pip\n"
     ]
    },
    {
     "name": "stdout",
     "output_type": "stream",
     "text": [
      "Requirement already satisfied: numpy in c:\\dev\\filter-wizard\\.venv\\lib\\site-packages (1.26.4)\n",
      "Requirement already satisfied: scipy in c:\\dev\\filter-wizard\\.venv\\lib\\site-packages (1.13.0)\n",
      "Requirement already satisfied: sympy in c:\\dev\\filter-wizard\\.venv\\lib\\site-packages (1.12)\n",
      "Requirement already satisfied: matplotlib in c:\\dev\\filter-wizard\\.venv\\lib\\site-packages (3.8.4)\n",
      "Requirement already satisfied: mpmath>=0.19 in c:\\dev\\filter-wizard\\.venv\\lib\\site-packages (from sympy) (1.3.0)\n",
      "Requirement already satisfied: contourpy>=1.0.1 in c:\\dev\\filter-wizard\\.venv\\lib\\site-packages (from matplotlib) (1.2.1)\n",
      "Requirement already satisfied: cycler>=0.10 in c:\\dev\\filter-wizard\\.venv\\lib\\site-packages (from matplotlib) (0.12.1)\n",
      "Requirement already satisfied: fonttools>=4.22.0 in c:\\dev\\filter-wizard\\.venv\\lib\\site-packages (from matplotlib) (4.51.0)\n",
      "Requirement already satisfied: kiwisolver>=1.3.1 in c:\\dev\\filter-wizard\\.venv\\lib\\site-packages (from matplotlib) (1.4.5)\n",
      "Requirement already satisfied: packaging>=20.0 in c:\\dev\\filter-wizard\\.venv\\lib\\site-packages (from matplotlib) (24.0)\n",
      "Requirement already satisfied: pillow>=8 in c:\\dev\\filter-wizard\\.venv\\lib\\site-packages (from matplotlib) (10.3.0)\n",
      "Requirement already satisfied: pyparsing>=2.3.1 in c:\\dev\\filter-wizard\\.venv\\lib\\site-packages (from matplotlib) (3.1.2)\n",
      "Requirement already satisfied: python-dateutil>=2.7 in c:\\dev\\filter-wizard\\.venv\\lib\\site-packages (from matplotlib) (2.9.0.post0)\n",
      "Requirement already satisfied: six>=1.5 in c:\\dev\\filter-wizard\\.venv\\lib\\site-packages (from python-dateutil>=2.7->matplotlib) (1.16.0)\n"
     ]
    },
    {
     "name": "stderr",
     "output_type": "stream",
     "text": [
      "\n",
      "[notice] A new release of pip is available: 23.2.1 -> 24.0\n",
      "[notice] To update, run: python.exe -m pip install --upgrade pip\n"
     ]
    }
   ],
   "source": [
    "!pip install ipympl\n",
    "!pip install numpy scipy sympy matplotlib"
   ]
  },
  {
   "cell_type": "code",
   "execution_count": 2,
   "id": "87c5c36eb9a78835",
   "metadata": {
    "ExecuteTime": {
     "end_time": "2024-05-23T05:32:30.045545Z",
     "start_time": "2024-05-23T05:32:28.530562Z"
    },
    "collapsed": false,
    "jupyter": {
     "outputs_hidden": false
    }
   },
   "outputs": [],
   "source": [
    "import matplotlib.pyplot as plt\n",
    "import scipy as sc\n",
    "import numpy as np\n",
    "import sympy as sp\n",
    "import utils as utl\n",
    "%matplotlib widget"
   ]
  },
  {
   "cell_type": "markdown",
   "id": "5f220c1010e2668f",
   "metadata": {
    "collapsed": false,
    "jupyter": {
     "outputs_hidden": false
    }
   },
   "source": [
    "Define symbols HPN"
   ]
  },
  {
   "cell_type": "code",
   "execution_count": 3,
   "id": "ec65281f5e3d40fd",
   "metadata": {
    "ExecuteTime": {
     "end_time": "2024-05-23T05:32:30.259817Z",
     "start_time": "2024-05-23T05:32:30.046540Z"
    },
    "collapsed": false,
    "jupyter": {
     "outputs_hidden": false
    }
   },
   "outputs": [
    {
     "name": "stdout",
     "output_type": "stream",
     "text": [
      "        ⎛  2    ⎞   \n",
      "      2 ⎜ s     ⎟   \n",
      "  K⋅wz ⋅⎜─── + 1⎟   \n",
      "        ⎜  2    ⎟   \n",
      "        ⎝wz     ⎠   \n",
      "────────────────────\n",
      "    ⎛  2           ⎞\n",
      "  2 ⎜ s         s  ⎟\n",
      "wo ⋅⎜─── + 1 + ────⎟\n",
      "    ⎜  2       Q⋅wo⎟\n",
      "    ⎝wo            ⎠\n"
     ]
    }
   ],
   "source": [
    "w, s, K, Ko, wo, wz, Q, wcf = sp.symbols('w, s, K, Ko, wo, wz, Q, wcf', real=True)\n",
    "H = K * (wz/wo)**2 * ((s/wz)**2 + 1)/( (s/wo)**2 + (s/(wo*Q) + 1))\n",
    "sp.pprint(H)"
   ]
  },
  {
   "cell_type": "code",
   "execution_count": 4,
   "id": "b91508231ebef602",
   "metadata": {
    "ExecuteTime": {
     "end_time": "2024-05-23T05:32:30.409831Z",
     "start_time": "2024-05-23T05:32:30.260814Z"
    },
    "collapsed": false,
    "jupyter": {
     "outputs_hidden": false
    }
   },
   "outputs": [
    {
     "name": "stdout",
     "output_type": "stream",
     "text": [
      "    ⎛  2    ⎞ \n",
      "    ⎜ s     ⎟ \n",
      " Ko⋅⎜─── + 1⎟ \n",
      "    ⎜  2    ⎟ \n",
      "    ⎝wz     ⎠ \n",
      "──────────────\n",
      "  2           \n",
      " s         s  \n",
      "─── + 1 + ────\n",
      "  2       Q⋅wo\n",
      "wo            \n",
      "         │   ⎛  2    ⎞│        \n",
      "         │   ⎜ w     ⎟│        \n",
      "         │Ko⋅⎜─── - 1⎟│        \n",
      "         │   ⎜  2    ⎟│        \n",
      "         │   ⎝wz     ⎠│        \n",
      "───────────────────────────────\n",
      "      _________________________\n",
      "     ╱   4      2          2   \n",
      "    ╱   w    2⋅w          w    \n",
      "   ╱   ─── - ──── + 1 + ────── \n",
      "  ╱      4     2         2   2 \n",
      "╲╱     wo    wo         Q ⋅wo  \n"
     ]
    }
   ],
   "source": [
    "# LPN\n",
    "\n",
    "Hlpn = Ko * ((s/wz)**2 + 1)/( (s/wo)**2 + (s/(wo*Q) + 1))\n",
    "sp.pprint(Hlpn)\n",
    "Hlpnw = Hlpn.subs(s, w*sp.I)\n",
    "Hlpnw_abs = sp.Abs(Hlpnw).simplify()\n",
    "sp.pprint(Hlpnw_abs)"
   ]
  },
  {
   "cell_type": "code",
   "execution_count": 5,
   "id": "cf3eab58ef12b657",
   "metadata": {
    "ExecuteTime": {
     "end_time": "2024-05-23T05:32:30.419465Z",
     "start_time": "2024-05-23T05:32:30.411805Z"
    },
    "collapsed": false,
    "jupyter": {
     "outputs_hidden": false
    }
   },
   "outputs": [
    {
     "name": "stdout",
     "output_type": "stream",
     "text": [
      "        ⎛    2    ⎞   \n",
      "      2 ⎜   w     ⎟   \n",
      "  K⋅wz ⋅⎜- ─── + 1⎟   \n",
      "        ⎜    2    ⎟   \n",
      "        ⎝  wz     ⎠   \n",
      "──────────────────────\n",
      "    ⎛    2           ⎞\n",
      "  2 ⎜   w        ⅈ⋅w ⎟\n",
      "wo ⋅⎜- ─── + 1 + ────⎟\n",
      "    ⎜    2       Q⋅wo⎟\n",
      "    ⎝  wo            ⎠\n"
     ]
    }
   ],
   "source": [
    "Hw = H.subs(s, w*sp.I)\n",
    "sp.pprint(Hw)"
   ]
  },
  {
   "cell_type": "markdown",
   "id": "2644fa123abe8cd3",
   "metadata": {
    "collapsed": false,
    "jupyter": {
     "outputs_hidden": false
    }
   },
   "source": [
    "Calculate the absolute value and evaluate in Wcf"
   ]
  },
  {
   "cell_type": "code",
   "execution_count": 6,
   "id": "2cb54d0bd2518368",
   "metadata": {
    "ExecuteTime": {
     "end_time": "2024-05-23T05:32:30.596628Z",
     "start_time": "2024-05-23T05:32:30.420459Z"
    },
    "collapsed": false,
    "jupyter": {
     "outputs_hidden": false
    }
   },
   "outputs": [
    {
     "name": "stdout",
     "output_type": "stream",
     "text": [
      "           │  ⎛  2    ⎞│       \n",
      "           │  ⎜ w     ⎟│       \n",
      "           │K⋅⎜─── - 1⎟│       \n",
      "           │  ⎜  2    ⎟│       \n",
      "         2 │  ⎝wz     ⎠│       \n",
      "       wz ⋅│───────────│       \n",
      "           │      2    │       \n",
      "           │    wo     │       \n",
      "───────────────────────────────\n",
      "      _________________________\n",
      "     ╱   4      2          2   \n",
      "    ╱   w    2⋅w          w    \n",
      "   ╱   ─── - ──── + 1 + ────── \n",
      "  ╱      4     2         2   2 \n",
      "╲╱     wo    wo         Q ⋅wo  \n",
      "         │   ⎛  2    ⎞│        \n",
      "         │   ⎜ w     ⎟│        \n",
      "         │Ko⋅⎜─── - 1⎟│        \n",
      "         │   ⎜  2    ⎟│        \n",
      "         │   ⎝wz     ⎠│        \n",
      "───────────────────────────────\n",
      "      _________________________\n",
      "     ╱   4      2          2   \n",
      "    ╱   w    2⋅w          w    \n",
      "   ╱   ─── - ──── + 1 + ────── \n",
      "  ╱      4     2         2   2 \n",
      "╲╱     wo    wo         Q ⋅wo  \n",
      "            │                      2        │            \n",
      "            │5.53780180599324e-11⋅w  - 0.416│            \n",
      "─────────────────────────────────────────────────────────\n",
      "   ______________________________________________________\n",
      "  ╱                       4                        2     \n",
      "╲╱  3.54599779116179e-18⋅w  - 3.69784355025461e-9⋅w  + 1 \n",
      "1.35311357754645\n"
     ]
    }
   ],
   "source": [
    "H_abs = sp.Abs(Hw).simplify()\n",
    "# sp.pprint(H_abs)\n",
    "result = H_abs.simplify()\n",
    "sp.pprint(result)\n",
    "result = result.subs(wz, 742.24*2*np.pi).subs(wo, 2791.63*2*np.pi).subs(Q, 5.25).subs(K, 0.416)\n",
    "sp.pprint(Hlpnw_abs)\n",
    "Hlpnw_abs_num = Hlpnw_abs.subs(wz, 13794.25*2*np.pi).subs(wo, 3667.63*2*np.pi).subs(Q, 5.25).subs(Ko, 0.416)\n",
    "sp.pprint(Hlpnw_abs_num)\n",
    "hlpn_0 = Hlpnw_abs_num.subs(w,20106.19)\n",
    "sp.pprint(hlpn_0)"
   ]
  },
  {
   "cell_type": "code",
   "execution_count": 7,
   "id": "23a440b7c3a83ce5",
   "metadata": {
    "ExecuteTime": {
     "end_time": "2024-05-23T05:32:31.127986Z",
     "start_time": "2024-05-23T05:32:30.597613Z"
    },
    "collapsed": false,
    "jupyter": {
     "outputs_hidden": false
    }
   },
   "outputs": [
    {
     "data": {
      "application/vnd.jupyter.widget-view+json": {
       "model_id": "bf4b57056b434208b6fbd925dafb63ab",
       "version_major": 2,
       "version_minor": 0
      },
      "image/png": "[encoded data removed]",
      "text/html": [
       "\n",
       "            <div style=\"display: inline-block;\">\n",
       "                <div class=\"jupyter-widgets widget-label\" style=\"text-align: center;\">\n",
       "                    Figure\n",
       "                </div>\n",
       "                <img src='data:image/png;base64,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' width=640.0/>\n",
       "            </div>\n",
       "        "
      ],
      "text/plain": [
       "Canvas(toolbar=Toolbar(toolitems=[('Home', 'Reset original view', 'home', 'home'), ('Back', 'Back to previous …"
      ]
     },
     "metadata": {},
     "output_type": "display_data"
    }
   ],
   "source": [
    "G = sp.lambdify(w, result, 'numpy')\n",
    "F = sp.lambdify(w, Hlpnw_abs_num, 'numpy')\n",
    "\n",
    "wrange = np.linspace(1, 10e6, 100000)\n",
    "\n",
    "G = 20*np.log10(G(wrange))\n",
    "F = 20*np.log10(F(wrange))\n",
    "\n",
    "\n",
    "plt.figure()\n",
    "plt.semilogx(wrange, G, label='hp')\n",
    "plt.semilogx(wrange, F, label='lp')\n",
    "plt.semilogx(wrange,F+G, label=\"bp\")\n",
    "plt.legend(loc='best')\n",
    "plt.show()"
   ]
  },
  {
   "cell_type": "code",
   "execution_count": 8,
   "id": "5e91bd85fe8068c9",
   "metadata": {
    "ExecuteTime": {
     "end_time": "2024-05-23T05:32:31.138196Z",
     "start_time": "2024-05-23T05:32:31.128981Z"
    },
    "collapsed": false,
    "jupyter": {
     "outputs_hidden": false
    }
   },
   "outputs": [
    {
     "name": "stdout",
     "output_type": "stream",
     "text": [
      "1.35243605636490\n"
     ]
    }
   ],
   "source": [
    "result = result.subs(w, 20106.19)\n",
    "sp.pprint(result)"
   ]
  }
 ],
 "metadata": {
  "kernelspec": {
   "display_name": "Python 3 (ipykernel)",
   "language": "python",
   "name": "python3"
  },
  "language_info": {
   "codemirror_mode": {
    "name": "ipython",
    "version": 3
   },
   "file_extension": ".py",
   "mimetype": "text/x-python",
   "name": "python",
   "nbconvert_exporter": "python",
   "pygments_lexer": "ipython3",
   "version": "3.12.0"
  }
 },
 "nbformat": 4,
 "nbformat_minor": 5
}
