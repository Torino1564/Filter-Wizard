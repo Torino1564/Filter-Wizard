{
 "cells": [
  {
   "cell_type": "code",
   "execution_count": null,
   "id": "initial_id",
   "metadata": {
    "collapsed": true,
    "ExecuteTime": {
     "start_time": "2024-05-20T20:58:11.129857Z"
    }
   },
   "outputs": [],
   "source": [
    "import utils as utl\n",
    "import hp_template as hp\n",
    "\n",
    "hp_template = hp.HPTemplate(0.8, 0.1, 2, 1)\n",
    "hp_template.set_approximation_function(hp.tmp.ApproximationFunction.Butter)\n",
    "hp_template.generate_final_tf()\n",
    "utl.print_bode(hp_template.final_function)"
   ]
  }
 ],
 "metadata": {
  "kernelspec": {
   "display_name": "Python 3",
   "language": "python",
   "name": "python3"
  },
  "language_info": {
   "codemirror_mode": {
    "name": "ipython",
    "version": 2
   },
   "file_extension": ".py",
   "mimetype": "text/x-python",
   "name": "python",
   "nbconvert_exporter": "python",
   "pygments_lexer": "ipython2",
   "version": "2.7.6"
  }
 },
 "nbformat": 4,
 "nbformat_minor": 5
}
